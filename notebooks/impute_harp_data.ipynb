{
 "cells": [
  {
   "cell_type": "code",
   "execution_count": 1,
   "metadata": {},
   "outputs": [],
   "source": [
    "import numpy as np\n",
    "import pandas as pd\n",
    "from plotnine import *"
   ]
  },
  {
   "cell_type": "markdown",
   "metadata": {},
   "source": [
    "In this notebook, we use linear interpolation to fill in missing values in the HARP data."
   ]
  },
  {
   "cell_type": "code",
   "execution_count": 2,
   "metadata": {},
   "outputs": [
    {
     "data": {
      "text/html": [
       "<div>\n",
       "<style scoped>\n",
       "    .dataframe tbody tr th:only-of-type {\n",
       "        vertical-align: middle;\n",
       "    }\n",
       "\n",
       "    .dataframe tbody tr th {\n",
       "        vertical-align: top;\n",
       "    }\n",
       "\n",
       "    .dataframe thead th {\n",
       "        text-align: right;\n",
       "    }\n",
       "</style>\n",
       "<table border=\"1\" class=\"dataframe\">\n",
       "  <thead>\n",
       "    <tr style=\"text-align: right;\">\n",
       "      <th></th>\n",
       "      <th>HARPNUM</th>\n",
       "      <th>T_REC</th>\n",
       "      <th>USFLUX</th>\n",
       "      <th>MEANGAM</th>\n",
       "      <th>MEANGBT</th>\n",
       "      <th>MEANGBZ</th>\n",
       "      <th>MEANGBH</th>\n",
       "      <th>MEANJZD</th>\n",
       "      <th>TOTUSJZ</th>\n",
       "      <th>MEANALP</th>\n",
       "      <th>...</th>\n",
       "      <th>LON_FWT</th>\n",
       "      <th>LAT_FWTPOS</th>\n",
       "      <th>LON_FWTPOS</th>\n",
       "      <th>LAT_FWTNEG</th>\n",
       "      <th>LON_FWTNEG</th>\n",
       "      <th>T_FRST1</th>\n",
       "      <th>T_LAST1</th>\n",
       "      <th>NOAA_AR</th>\n",
       "      <th>NOAA_NUM</th>\n",
       "      <th>NOAA_ARS</th>\n",
       "    </tr>\n",
       "  </thead>\n",
       "  <tbody>\n",
       "    <tr>\n",
       "      <th>0</th>\n",
       "      <td>1</td>\n",
       "      <td>2010-05-01 00:00:00+00:00</td>\n",
       "      <td>6.510776e+21</td>\n",
       "      <td>28.337</td>\n",
       "      <td>66.808</td>\n",
       "      <td>84.497</td>\n",
       "      <td>32.193</td>\n",
       "      <td>-0.131873</td>\n",
       "      <td>5.777592e+12</td>\n",
       "      <td>0.009330</td>\n",
       "      <td>...</td>\n",
       "      <td>-78.194817</td>\n",
       "      <td>23.822844</td>\n",
       "      <td>-78.326813</td>\n",
       "      <td>23.677998</td>\n",
       "      <td>-75.876213</td>\n",
       "      <td>2010-05-01 00:00:00+00:00</td>\n",
       "      <td>2010-05-11 16:12:00+00:00</td>\n",
       "      <td>11067</td>\n",
       "      <td>1</td>\n",
       "      <td>11067</td>\n",
       "    </tr>\n",
       "    <tr>\n",
       "      <th>1</th>\n",
       "      <td>1</td>\n",
       "      <td>2010-05-01 00:12:00+00:00</td>\n",
       "      <td>6.521054e+21</td>\n",
       "      <td>29.678</td>\n",
       "      <td>68.349</td>\n",
       "      <td>90.781</td>\n",
       "      <td>32.345</td>\n",
       "      <td>-0.113589</td>\n",
       "      <td>5.654726e+12</td>\n",
       "      <td>-0.004021</td>\n",
       "      <td>...</td>\n",
       "      <td>-78.183884</td>\n",
       "      <td>23.763060</td>\n",
       "      <td>-78.388466</td>\n",
       "      <td>23.785194</td>\n",
       "      <td>-75.429527</td>\n",
       "      <td>2010-05-01 00:00:00+00:00</td>\n",
       "      <td>2010-05-11 16:12:00+00:00</td>\n",
       "      <td>11067</td>\n",
       "      <td>1</td>\n",
       "      <td>11067</td>\n",
       "    </tr>\n",
       "    <tr>\n",
       "      <th>2</th>\n",
       "      <td>1</td>\n",
       "      <td>2010-05-01 00:24:00+00:00</td>\n",
       "      <td>6.917875e+21</td>\n",
       "      <td>28.441</td>\n",
       "      <td>67.682</td>\n",
       "      <td>89.127</td>\n",
       "      <td>32.411</td>\n",
       "      <td>0.061197</td>\n",
       "      <td>6.488687e+12</td>\n",
       "      <td>0.003400</td>\n",
       "      <td>...</td>\n",
       "      <td>-77.894882</td>\n",
       "      <td>23.770275</td>\n",
       "      <td>-78.056015</td>\n",
       "      <td>23.708254</td>\n",
       "      <td>-75.365669</td>\n",
       "      <td>2010-05-01 00:00:00+00:00</td>\n",
       "      <td>2010-05-11 16:12:00+00:00</td>\n",
       "      <td>11067</td>\n",
       "      <td>1</td>\n",
       "      <td>11067</td>\n",
       "    </tr>\n",
       "    <tr>\n",
       "      <th>3</th>\n",
       "      <td>1</td>\n",
       "      <td>2010-05-01 00:36:00+00:00</td>\n",
       "      <td>6.973706e+21</td>\n",
       "      <td>28.031</td>\n",
       "      <td>67.166</td>\n",
       "      <td>85.321</td>\n",
       "      <td>31.966</td>\n",
       "      <td>0.053302</td>\n",
       "      <td>6.193157e+12</td>\n",
       "      <td>0.005150</td>\n",
       "      <td>...</td>\n",
       "      <td>-77.822472</td>\n",
       "      <td>23.789299</td>\n",
       "      <td>-78.000526</td>\n",
       "      <td>23.625120</td>\n",
       "      <td>-75.309296</td>\n",
       "      <td>2010-05-01 00:00:00+00:00</td>\n",
       "      <td>2010-05-11 16:12:00+00:00</td>\n",
       "      <td>11067</td>\n",
       "      <td>1</td>\n",
       "      <td>11067</td>\n",
       "    </tr>\n",
       "    <tr>\n",
       "      <th>4</th>\n",
       "      <td>1</td>\n",
       "      <td>2010-05-01 00:48:00+00:00</td>\n",
       "      <td>7.228647e+21</td>\n",
       "      <td>26.980</td>\n",
       "      <td>64.805</td>\n",
       "      <td>76.349</td>\n",
       "      <td>32.647</td>\n",
       "      <td>0.011571</td>\n",
       "      <td>5.797055e+12</td>\n",
       "      <td>0.000902</td>\n",
       "      <td>...</td>\n",
       "      <td>-77.759651</td>\n",
       "      <td>23.775604</td>\n",
       "      <td>-77.954346</td>\n",
       "      <td>23.754055</td>\n",
       "      <td>-74.332764</td>\n",
       "      <td>2010-05-01 00:00:00+00:00</td>\n",
       "      <td>2010-05-11 16:12:00+00:00</td>\n",
       "      <td>11067</td>\n",
       "      <td>1</td>\n",
       "      <td>11067</td>\n",
       "    </tr>\n",
       "  </tbody>\n",
       "</table>\n",
       "<p>5 rows × 49 columns</p>\n",
       "</div>"
      ],
      "text/plain": [
       "   HARPNUM                     T_REC        USFLUX  MEANGAM  MEANGBT  MEANGBZ  \\\n",
       "0        1 2010-05-01 00:00:00+00:00  6.510776e+21   28.337   66.808   84.497   \n",
       "1        1 2010-05-01 00:12:00+00:00  6.521054e+21   29.678   68.349   90.781   \n",
       "2        1 2010-05-01 00:24:00+00:00  6.917875e+21   28.441   67.682   89.127   \n",
       "3        1 2010-05-01 00:36:00+00:00  6.973706e+21   28.031   67.166   85.321   \n",
       "4        1 2010-05-01 00:48:00+00:00  7.228647e+21   26.980   64.805   76.349   \n",
       "\n",
       "   MEANGBH   MEANJZD       TOTUSJZ   MEANALP  ...    LON_FWT  LAT_FWTPOS  \\\n",
       "0   32.193 -0.131873  5.777592e+12  0.009330  ... -78.194817   23.822844   \n",
       "1   32.345 -0.113589  5.654726e+12 -0.004021  ... -78.183884   23.763060   \n",
       "2   32.411  0.061197  6.488687e+12  0.003400  ... -77.894882   23.770275   \n",
       "3   31.966  0.053302  6.193157e+12  0.005150  ... -77.822472   23.789299   \n",
       "4   32.647  0.011571  5.797055e+12  0.000902  ... -77.759651   23.775604   \n",
       "\n",
       "   LON_FWTPOS  LAT_FWTNEG  LON_FWTNEG                   T_FRST1  \\\n",
       "0  -78.326813   23.677998  -75.876213 2010-05-01 00:00:00+00:00   \n",
       "1  -78.388466   23.785194  -75.429527 2010-05-01 00:00:00+00:00   \n",
       "2  -78.056015   23.708254  -75.365669 2010-05-01 00:00:00+00:00   \n",
       "3  -78.000526   23.625120  -75.309296 2010-05-01 00:00:00+00:00   \n",
       "4  -77.954346   23.754055  -74.332764 2010-05-01 00:00:00+00:00   \n",
       "\n",
       "                    T_LAST1  NOAA_AR  NOAA_NUM  NOAA_ARS  \n",
       "0 2010-05-11 16:12:00+00:00    11067         1     11067  \n",
       "1 2010-05-11 16:12:00+00:00    11067         1     11067  \n",
       "2 2010-05-11 16:12:00+00:00    11067         1     11067  \n",
       "3 2010-05-11 16:12:00+00:00    11067         1     11067  \n",
       "4 2010-05-11 16:12:00+00:00    11067         1     11067  \n",
       "\n",
       "[5 rows x 49 columns]"
      ]
     },
     "execution_count": 2,
     "metadata": {},
     "output_type": "execute_result"
    }
   ],
   "source": [
    "harp_data = pd.read_parquet(\"../harp_data/data/processed/hmi_sharp_cea_720s.parquet\")\n",
    "harp_data.head()"
   ]
  },
  {
   "cell_type": "markdown",
   "metadata": {},
   "source": [
    "We will fill in missing values in the columns listed below."
   ]
  },
  {
   "cell_type": "code",
   "execution_count": 3,
   "metadata": {},
   "outputs": [],
   "source": [
    "all_predictors = [\n",
    "    # SHARP parameters\n",
    "    \"USFLUX\", \"MEANGAM\", \"MEANGBT\", \"MEANGBZ\", \"MEANGBH\", \"MEANJZD\", \"TOTUSJZ\", \"MEANALP\",\n",
    "    \"MEANJZH\", \"TOTUSJH\", \"ABSNJZH\", \"SAVNCPP\", \"MEANPOT\", \"TOTPOT\", \"MEANSHR\", \"SHRGT45\",\n",
    "    # Patch areas and pixel counts\n",
    "    \"NPIX\", \"SIZE\", \"AREA\", \"NACR\", \"SIZE_ACR\", \"AREA_ACR\"\n",
    "]"
   ]
  },
  {
   "cell_type": "markdown",
   "metadata": {},
   "source": [
    "We use linear interpolation for each HARP."
   ]
  },
  {
   "cell_type": "code",
   "execution_count": 4,
   "metadata": {},
   "outputs": [],
   "source": [
    "no_na_harp_data = harp_data.copy()\n",
    "no_na_harp_data[all_predictors] = harp_data.groupby(\"HARPNUM\")[all_predictors].apply(lambda df: df.interpolate()).reset_index(drop=True)"
   ]
  },
  {
   "cell_type": "markdown",
   "metadata": {},
   "source": [
    "We next separately number records for each HARP, e.g., the `m` records for the first HARP are numbered `0, ..., m - 1`, the `n` records for the second HARP are numbered `0, ..., n - 1`, etc. We also flag records for which at least one predictor still has a missing value. Because of how linear interpolation works, for each HARP, records that are still missing values should be in runs at the start or end."
   ]
  },
  {
   "cell_type": "code",
   "execution_count": 5,
   "metadata": {},
   "outputs": [],
   "source": [
    "no_na_harp_data[\"index_in_harp\"] = no_na_harp_data.groupby(\"HARPNUM\").cumcount()\n",
    "no_na_harp_data[\"are_any_predictors_na\"] = no_na_harp_data[all_predictors].isna().any(axis=1)"
   ]
  },
  {
   "cell_type": "markdown",
   "metadata": {},
   "source": [
    "The code below verifies that records with missing values are in runs at the start or end. If a record with missing values were in the middle, then the indices of some two complete records would differ by more than one."
   ]
  },
  {
   "cell_type": "code",
   "execution_count": 6,
   "metadata": {},
   "outputs": [
    {
     "data": {
      "text/plain": [
       "False"
      ]
     },
     "execution_count": 6,
     "metadata": {},
     "output_type": "execute_result"
    }
   ],
   "source": [
    "(\n",
    "    no_na_harp_data\n",
    "    .groupby(\"HARPNUM\")[[\"index_in_harp\", \"are_any_predictors_na\"]]\n",
    "    .apply(lambda df: (df.loc[~df[\"are_any_predictors_na\"], \"index_in_harp\"].diff() > 1).any())\n",
    "    .any()\n",
    ")"
   ]
  },
  {
   "cell_type": "markdown",
   "metadata": {},
   "source": [
    "For the sake of simplicity, we discard records that still have missing values. We also drop columns that are no longer needed."
   ]
  },
  {
   "cell_type": "code",
   "execution_count": 7,
   "metadata": {},
   "outputs": [],
   "source": [
    "no_na_harp_data = no_na_harp_data[~no_na_harp_data[\"are_any_predictors_na\"]].drop(columns=[\"index_in_harp\", \"are_any_predictors_na\"])"
   ]
  },
  {
   "cell_type": "markdown",
   "metadata": {},
   "source": [
    "We count records by HARP using both the original data and the new data."
   ]
  },
  {
   "cell_type": "code",
   "execution_count": 8,
   "metadata": {},
   "outputs": [],
   "source": [
    "orig_rec_counts = harp_data.groupby(\"HARPNUM\").size()\n",
    "new_rec_counts = no_na_harp_data.groupby(\"HARPNUM\").size()\n",
    "all_rec_counts = pd.DataFrame({\"orig_rec_count\": orig_rec_counts, \"new_rec_count\": new_rec_counts}).reset_index()\n",
    "all_rec_counts[\"new_rec_count\"] = all_rec_counts[\"new_rec_count\"].replace(np.nan, 0).astype(\"int\")"
   ]
  },
  {
   "cell_type": "markdown",
   "metadata": {},
   "source": [
    "Several HARPs no longer have any records in the data."
   ]
  },
  {
   "cell_type": "code",
   "execution_count": 9,
   "metadata": {},
   "outputs": [
    {
     "data": {
      "text/html": [
       "<div>\n",
       "<style scoped>\n",
       "    .dataframe tbody tr th:only-of-type {\n",
       "        vertical-align: middle;\n",
       "    }\n",
       "\n",
       "    .dataframe tbody tr th {\n",
       "        vertical-align: top;\n",
       "    }\n",
       "\n",
       "    .dataframe thead th {\n",
       "        text-align: right;\n",
       "    }\n",
       "</style>\n",
       "<table border=\"1\" class=\"dataframe\">\n",
       "  <thead>\n",
       "    <tr style=\"text-align: right;\">\n",
       "      <th></th>\n",
       "      <th>HARPNUM</th>\n",
       "      <th>orig_rec_count</th>\n",
       "      <th>new_rec_count</th>\n",
       "    </tr>\n",
       "  </thead>\n",
       "  <tbody>\n",
       "    <tr>\n",
       "      <th>418</th>\n",
       "      <td>731</td>\n",
       "      <td>12</td>\n",
       "      <td>0</td>\n",
       "    </tr>\n",
       "    <tr>\n",
       "      <th>472</th>\n",
       "      <td>807</td>\n",
       "      <td>15</td>\n",
       "      <td>0</td>\n",
       "    </tr>\n",
       "    <tr>\n",
       "      <th>502</th>\n",
       "      <td>870</td>\n",
       "      <td>18</td>\n",
       "      <td>0</td>\n",
       "    </tr>\n",
       "    <tr>\n",
       "      <th>638</th>\n",
       "      <td>1144</td>\n",
       "      <td>22</td>\n",
       "      <td>0</td>\n",
       "    </tr>\n",
       "    <tr>\n",
       "      <th>1152</th>\n",
       "      <td>2080</td>\n",
       "      <td>6</td>\n",
       "      <td>0</td>\n",
       "    </tr>\n",
       "    <tr>\n",
       "      <th>1154</th>\n",
       "      <td>2083</td>\n",
       "      <td>22</td>\n",
       "      <td>0</td>\n",
       "    </tr>\n",
       "    <tr>\n",
       "      <th>2287</th>\n",
       "      <td>4149</td>\n",
       "      <td>5</td>\n",
       "      <td>0</td>\n",
       "    </tr>\n",
       "    <tr>\n",
       "      <th>2718</th>\n",
       "      <td>4972</td>\n",
       "      <td>10</td>\n",
       "      <td>0</td>\n",
       "    </tr>\n",
       "    <tr>\n",
       "      <th>3340</th>\n",
       "      <td>6090</td>\n",
       "      <td>16</td>\n",
       "      <td>0</td>\n",
       "    </tr>\n",
       "    <tr>\n",
       "      <th>3713</th>\n",
       "      <td>6713</td>\n",
       "      <td>1</td>\n",
       "      <td>0</td>\n",
       "    </tr>\n",
       "    <tr>\n",
       "      <th>4359</th>\n",
       "      <td>7701</td>\n",
       "      <td>5</td>\n",
       "      <td>0</td>\n",
       "    </tr>\n",
       "    <tr>\n",
       "      <th>4947</th>\n",
       "      <td>8621</td>\n",
       "      <td>16</td>\n",
       "      <td>0</td>\n",
       "    </tr>\n",
       "    <tr>\n",
       "      <th>5407</th>\n",
       "      <td>9455</td>\n",
       "      <td>18</td>\n",
       "      <td>0</td>\n",
       "    </tr>\n",
       "    <tr>\n",
       "      <th>5553</th>\n",
       "      <td>9739</td>\n",
       "      <td>5</td>\n",
       "      <td>0</td>\n",
       "    </tr>\n",
       "    <tr>\n",
       "      <th>5595</th>\n",
       "      <td>9816</td>\n",
       "      <td>11</td>\n",
       "      <td>0</td>\n",
       "    </tr>\n",
       "    <tr>\n",
       "      <th>5924</th>\n",
       "      <td>10468</td>\n",
       "      <td>38</td>\n",
       "      <td>0</td>\n",
       "    </tr>\n",
       "    <tr>\n",
       "      <th>5930</th>\n",
       "      <td>10483</td>\n",
       "      <td>12</td>\n",
       "      <td>0</td>\n",
       "    </tr>\n",
       "    <tr>\n",
       "      <th>6403</th>\n",
       "      <td>11419</td>\n",
       "      <td>4</td>\n",
       "      <td>0</td>\n",
       "    </tr>\n",
       "  </tbody>\n",
       "</table>\n",
       "</div>"
      ],
      "text/plain": [
       "      HARPNUM  orig_rec_count  new_rec_count\n",
       "418       731              12              0\n",
       "472       807              15              0\n",
       "502       870              18              0\n",
       "638      1144              22              0\n",
       "1152     2080               6              0\n",
       "1154     2083              22              0\n",
       "2287     4149               5              0\n",
       "2718     4972              10              0\n",
       "3340     6090              16              0\n",
       "3713     6713               1              0\n",
       "4359     7701               5              0\n",
       "4947     8621              16              0\n",
       "5407     9455              18              0\n",
       "5553     9739               5              0\n",
       "5595     9816              11              0\n",
       "5924    10468              38              0\n",
       "5930    10483              12              0\n",
       "6403    11419               4              0"
      ]
     },
     "execution_count": 9,
     "metadata": {},
     "output_type": "execute_result"
    }
   ],
   "source": [
    "all_rec_counts[all_rec_counts[\"new_rec_count\"] == 0]"
   ]
  },
  {
   "cell_type": "markdown",
   "metadata": {},
   "source": [
    "We compute the absolute and relative changes in the record counts for HARPs that still have records."
   ]
  },
  {
   "cell_type": "code",
   "execution_count": 10,
   "metadata": {},
   "outputs": [],
   "source": [
    "all_rec_counts = all_rec_counts[all_rec_counts[\"new_rec_count\"] > 0]\n",
    "all_rec_counts[\"diff\"] = all_rec_counts[\"orig_rec_count\"] - all_rec_counts[\"new_rec_count\"]\n",
    "all_rec_counts[\"rel_diff\"] = all_rec_counts[\"diff\"] / all_rec_counts[\"orig_rec_count\"]"
   ]
  },
  {
   "cell_type": "markdown",
   "metadata": {},
   "source": [
    "Below is a histogram of the relative differences; for the vast majority of HARPs, the relative difference is close to zero."
   ]
  },
  {
   "cell_type": "code",
   "execution_count": 11,
   "metadata": {},
   "outputs": [
    {
     "data": {
      "image/png": "[encoded data removed]"
     },
     "metadata": {
      "image/png": {
       "height": 480,
       "width": 640
      }
     },
     "output_type": "display_data"
    }
   ],
   "source": [
    "(\n",
    "    ggplot(data=all_rec_counts, mapping=aes(x=\"rel_diff\")) +\n",
    "    geom_histogram(binwidth=0.01) +\n",
    "    labs(x=\"Relative Difference\", y=\"Number of HARPs\") +\n",
    "    theme_bw()\n",
    ")"
   ]
  },
  {
   "cell_type": "markdown",
   "metadata": {},
   "source": [
    "Below are the HARPs with the largest relative differences."
   ]
  },
  {
   "cell_type": "code",
   "execution_count": 12,
   "metadata": {},
   "outputs": [
    {
     "data": {
      "text/html": [
       "<div>\n",
       "<style scoped>\n",
       "    .dataframe tbody tr th:only-of-type {\n",
       "        vertical-align: middle;\n",
       "    }\n",
       "\n",
       "    .dataframe tbody tr th {\n",
       "        vertical-align: top;\n",
       "    }\n",
       "\n",
       "    .dataframe thead th {\n",
       "        text-align: right;\n",
       "    }\n",
       "</style>\n",
       "<table border=\"1\" class=\"dataframe\">\n",
       "  <thead>\n",
       "    <tr style=\"text-align: right;\">\n",
       "      <th></th>\n",
       "      <th>HARPNUM</th>\n",
       "      <th>orig_rec_count</th>\n",
       "      <th>new_rec_count</th>\n",
       "      <th>diff</th>\n",
       "      <th>rel_diff</th>\n",
       "    </tr>\n",
       "  </thead>\n",
       "  <tbody>\n",
       "    <tr>\n",
       "      <th>831</th>\n",
       "      <td>1486</td>\n",
       "      <td>38</td>\n",
       "      <td>2</td>\n",
       "      <td>36</td>\n",
       "      <td>0.947368</td>\n",
       "    </tr>\n",
       "    <tr>\n",
       "      <th>2687</th>\n",
       "      <td>4892</td>\n",
       "      <td>3</td>\n",
       "      <td>1</td>\n",
       "      <td>2</td>\n",
       "      <td>0.666667</td>\n",
       "    </tr>\n",
       "    <tr>\n",
       "      <th>3546</th>\n",
       "      <td>6443</td>\n",
       "      <td>44</td>\n",
       "      <td>16</td>\n",
       "      <td>28</td>\n",
       "      <td>0.636364</td>\n",
       "    </tr>\n",
       "    <tr>\n",
       "      <th>2370</th>\n",
       "      <td>4292</td>\n",
       "      <td>25</td>\n",
       "      <td>11</td>\n",
       "      <td>14</td>\n",
       "      <td>0.560000</td>\n",
       "    </tr>\n",
       "    <tr>\n",
       "      <th>1404</th>\n",
       "      <td>2496</td>\n",
       "      <td>240</td>\n",
       "      <td>120</td>\n",
       "      <td>120</td>\n",
       "      <td>0.500000</td>\n",
       "    </tr>\n",
       "    <tr>\n",
       "      <th>1061</th>\n",
       "      <td>1933</td>\n",
       "      <td>118</td>\n",
       "      <td>59</td>\n",
       "      <td>59</td>\n",
       "      <td>0.500000</td>\n",
       "    </tr>\n",
       "    <tr>\n",
       "      <th>1393</th>\n",
       "      <td>2474</td>\n",
       "      <td>255</td>\n",
       "      <td>135</td>\n",
       "      <td>120</td>\n",
       "      <td>0.470588</td>\n",
       "    </tr>\n",
       "    <tr>\n",
       "      <th>3844</th>\n",
       "      <td>6935</td>\n",
       "      <td>17</td>\n",
       "      <td>9</td>\n",
       "      <td>8</td>\n",
       "      <td>0.470588</td>\n",
       "    </tr>\n",
       "    <tr>\n",
       "      <th>1391</th>\n",
       "      <td>2472</td>\n",
       "      <td>258</td>\n",
       "      <td>138</td>\n",
       "      <td>120</td>\n",
       "      <td>0.465116</td>\n",
       "    </tr>\n",
       "    <tr>\n",
       "      <th>5252</th>\n",
       "      <td>9173</td>\n",
       "      <td>31</td>\n",
       "      <td>17</td>\n",
       "      <td>14</td>\n",
       "      <td>0.451613</td>\n",
       "    </tr>\n",
       "  </tbody>\n",
       "</table>\n",
       "</div>"
      ],
      "text/plain": [
       "      HARPNUM  orig_rec_count  new_rec_count  diff  rel_diff\n",
       "831      1486              38              2    36  0.947368\n",
       "2687     4892               3              1     2  0.666667\n",
       "3546     6443              44             16    28  0.636364\n",
       "2370     4292              25             11    14  0.560000\n",
       "1404     2496             240            120   120  0.500000\n",
       "1061     1933             118             59    59  0.500000\n",
       "1393     2474             255            135   120  0.470588\n",
       "3844     6935              17              9     8  0.470588\n",
       "1391     2472             258            138   120  0.465116\n",
       "5252     9173              31             17    14  0.451613"
      ]
     },
     "execution_count": 12,
     "metadata": {},
     "output_type": "execute_result"
    }
   ],
   "source": [
    "all_rec_counts.sort_values([\"rel_diff\", \"orig_rec_count\"], ascending=False).head(10)\n"
   ]
  },
  {
   "cell_type": "markdown",
   "metadata": {},
   "source": [
    "Save the imputed data."
   ]
  },
  {
   "cell_type": "code",
   "execution_count": 13,
   "metadata": {},
   "outputs": [],
   "source": [
    "no_na_harp_data.to_parquet(\"../harp_data/data/processed/no_na_hmi_sharp_cea_720s.parquet\")"
   ]
  }
 ],
 "metadata": {
  "kernelspec": {
   "display_name": "Python 3",
   "language": "python",
   "name": "python3"
  },
  "language_info": {
   "codemirror_mode": {
    "name": "ipython",
    "version": 3
   },
   "file_extension": ".py",
   "mimetype": "text/x-python",
   "name": "python",
   "nbconvert_exporter": "python",
   "pygments_lexer": "ipython3",
   "version": "3.9.20"
  }
 },
 "nbformat": 4,
 "nbformat_minor": 2
}
