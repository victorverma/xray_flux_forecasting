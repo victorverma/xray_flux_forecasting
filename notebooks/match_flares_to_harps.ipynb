{
 "cells": [
  {
   "cell_type": "code",
   "execution_count": 1,
   "metadata": {},
   "outputs": [],
   "source": [
    "import pandas as pd"
   ]
  },
  {
   "cell_type": "code",
   "execution_count": 2,
   "metadata": {},
   "outputs": [
    {
     "data": {
      "application/vnd.microsoft.datawrangler.viewer.v0+json": {
       "columns": [
        {
         "name": "index",
         "rawType": "int64",
         "type": "integer"
        },
        {
         "name": "HARPNUM",
         "rawType": "Int64",
         "type": "integer"
        },
        {
         "name": "T_REC",
         "rawType": "datetime64[ns, UTC]",
         "type": "unknown"
        },
        {
         "name": "USFLUX",
         "rawType": "float64",
         "type": "float"
        },
        {
         "name": "MEANGAM",
         "rawType": "float64",
         "type": "float"
        },
        {
         "name": "MEANGBT",
         "rawType": "float64",
         "type": "float"
        },
        {
         "name": "MEANGBZ",
         "rawType": "float64",
         "type": "float"
        },
        {
         "name": "MEANGBH",
         "rawType": "float64",
         "type": "float"
        },
        {
         "name": "MEANJZD",
         "rawType": "float64",
         "type": "float"
        },
        {
         "name": "TOTUSJZ",
         "rawType": "float64",
         "type": "float"
        },
        {
         "name": "MEANALP",
         "rawType": "float64",
         "type": "float"
        },
        {
         "name": "MEANJZH",
         "rawType": "float64",
         "type": "float"
        },
        {
         "name": "TOTUSJH",
         "rawType": "float64",
         "type": "float"
        },
        {
         "name": "ABSNJZH",
         "rawType": "float64",
         "type": "float"
        },
        {
         "name": "SAVNCPP",
         "rawType": "float64",
         "type": "float"
        },
        {
         "name": "MEANPOT",
         "rawType": "float64",
         "type": "float"
        },
        {
         "name": "TOTPOT",
         "rawType": "float64",
         "type": "float"
        },
        {
         "name": "MEANSHR",
         "rawType": "float64",
         "type": "float"
        },
        {
         "name": "SHRGT45",
         "rawType": "float64",
         "type": "float"
        },
        {
         "name": "CRLN_OBS",
         "rawType": "float64",
         "type": "float"
        },
        {
         "name": "CRLT_OBS",
         "rawType": "float64",
         "type": "float"
        },
        {
         "name": "CAR_ROT",
         "rawType": "Int64",
         "type": "integer"
        },
        {
         "name": "QUALITY",
         "rawType": "Int64",
         "type": "integer"
        },
        {
         "name": "QUAL_S",
         "rawType": "Int64",
         "type": "integer"
        },
        {
         "name": "QUALLEV1",
         "rawType": "Int64",
         "type": "integer"
        },
        {
         "name": "HISTORY",
         "rawType": "object",
         "type": "string"
        },
        {
         "name": "COMMENT",
         "rawType": "object",
         "type": "string"
        },
        {
         "name": "H_MERGE",
         "rawType": "Int64",
         "type": "integer"
        },
        {
         "name": "H_FAINT",
         "rawType": "Int64",
         "type": "integer"
        },
        {
         "name": "NPIX",
         "rawType": "float64",
         "type": "float"
        },
        {
         "name": "SIZE",
         "rawType": "float64",
         "type": "float"
        },
        {
         "name": "AREA",
         "rawType": "float64",
         "type": "float"
        },
        {
         "name": "NACR",
         "rawType": "float64",
         "type": "float"
        },
        {
         "name": "SIZE_ACR",
         "rawType": "float64",
         "type": "float"
        },
        {
         "name": "AREA_ACR",
         "rawType": "float64",
         "type": "float"
        },
        {
         "name": "LAT_MIN",
         "rawType": "float64",
         "type": "float"
        },
        {
         "name": "LON_MIN",
         "rawType": "float64",
         "type": "float"
        },
        {
         "name": "LAT_MAX",
         "rawType": "float64",
         "type": "float"
        },
        {
         "name": "LON_MAX",
         "rawType": "float64",
         "type": "float"
        },
        {
         "name": "LAT_FWT",
         "rawType": "float64",
         "type": "float"
        },
        {
         "name": "LON_FWT",
         "rawType": "float64",
         "type": "float"
        },
        {
         "name": "LAT_FWTPOS",
         "rawType": "float64",
         "type": "float"
        },
        {
         "name": "LON_FWTPOS",
         "rawType": "float64",
         "type": "float"
        },
        {
         "name": "LAT_FWTNEG",
         "rawType": "float64",
         "type": "float"
        },
        {
         "name": "LON_FWTNEG",
         "rawType": "float64",
         "type": "float"
        },
        {
         "name": "T_FRST1",
         "rawType": "datetime64[ns, UTC]",
         "type": "unknown"
        },
        {
         "name": "T_LAST1",
         "rawType": "datetime64[ns, UTC]",
         "type": "unknown"
        },
        {
         "name": "NOAA_AR",
         "rawType": "Int64",
         "type": "integer"
        },
        {
         "name": "NOAA_NUM",
         "rawType": "Int64",
         "type": "integer"
        },
        {
         "name": "NOAA_ARS",
         "rawType": "object",
         "type": "string"
        }
       ],
       "conversionMethod": "pd.DataFrame",
       "ref": "903e5615-c92c-476f-801b-915ed35d8554",
       "rows": [
        [
         "0",
         "1",
         "2010-05-01 14:00:00+00:00",
         "5.827622e+21",
         "23.887",
         "73.347",
         "77.564",
         "31.354",
         "-0.1518264",
         "4860817000000.0",
         "0.00039796",
         "0.00012743",
         "253.948",
         "1.101",
         "700261400000.0",
         "1435.344",
         "1.646767e+22",
         "17.746",
         "1.655",
         "243.569275",
         "-4.121475",
         "2096",
         "0",
         "0",
         "0",
         " ",
         " ",
         "0",
         "0",
         "6214.0",
         "554.527771",
         "1002.941345",
         "431.0",
         "38.461773",
         "68.236092",
         "22.10144",
         "-74.534958",
         "25.642115",
         "-66.018166",
         "23.750633",
         "-69.996475",
         "23.742485",
         "-70.418633",
         "23.80628",
         "-67.113625",
         "2010-05-01 00:00:00+00:00",
         "2010-05-11 16:12:00+00:00",
         "11067",
         "1",
         "11067"
        ],
        [
         "1",
         "1",
         "2010-05-01 14:12:00+00:00",
         "5.76815e+21",
         "24.708",
         "71.97",
         "76.249",
         "31.197",
         "-0.22683525",
         "4908301000000.0",
         "8.137e-05",
         "2.573e-05",
         "252.069",
         "0.222",
         "1044749000000.0",
         "1479.076",
         "1.694583e+22",
         "18.494",
         "2.26",
         "243.459137",
         "-4.121171",
         "2096",
         "0",
         "0",
         "0",
         " ",
         " ",
         "0",
         "0",
         "6251.0",
         "557.817139",
         "1001.87793",
         "437.0",
         "38.996338",
         "69.012444",
         "22.123947",
         "-74.394951",
         "25.64279",
         "-65.896187",
         "23.771694",
         "-69.953972",
         "23.769396",
         "-70.363503",
         "23.788214",
         "-67.011284",
         "2010-05-01 00:00:00+00:00",
         "2010-05-11 16:12:00+00:00",
         "11067",
         "1",
         "11067"
        ],
        [
         "2",
         "1",
         "2010-05-01 14:24:00+00:00",
         "5.865157e+21",
         "25.657",
         "74.254",
         "82.154",
         "32.748",
         "-0.26002339",
         "5577384000000.0",
         "-0.00957323",
         "-0.00287449",
         "262.044",
         "26.106",
         "1806319000000.0",
         "1700.549",
         "2.051083e+22",
         "20.083",
         "4.338",
         "243.348984",
         "-4.120891",
         "2096",
         "0",
         "0",
         "0",
         " ",
         " ",
         "0",
         "0",
         "6286.0",
         "560.930603",
         "1001.542358",
         "432.0",
         "38.549477",
         "67.530121",
         "22.149277",
         "-74.289665",
         "25.659647",
         "-65.770721",
         "23.757574",
         "-69.793488",
         "23.754747",
         "-70.199081",
         "23.777744",
         "-66.899902",
         "2010-05-01 00:00:00+00:00",
         "2010-05-11 16:12:00+00:00",
         "11067",
         "1",
         "11067"
        ],
        [
         "3",
         "1",
         "2010-05-01 14:36:00+00:00",
         "5.854875e+21",
         "25.242",
         "74.539",
         "81.896",
         "33.026",
         "-0.1996403",
         "5290721000000.0",
         "-0.01385247",
         "-0.00424683",
         "257.373",
         "38.064",
         "2733141000000.0",
         "1552.869",
         "1.84842e+22",
         "19.097",
         "3.436",
         "243.238785",
         "-4.120632",
         "2096",
         "0",
         "0",
         "0",
         " ",
         " ",
         "0",
         "0",
         "6312.0",
         "563.241211",
         "998.930847",
         "407.0",
         "36.317993",
         "63.440701",
         "22.157278",
         "-74.155388",
         "25.652056",
         "-65.668182",
         "23.759003",
         "-69.7341",
         "23.757551",
         "-70.166977",
         "23.768915",
         "-66.779518",
         "2010-05-01 00:00:00+00:00",
         "2010-05-11 16:12:00+00:00",
         "11067",
         "1",
         "11067"
        ],
        [
         "4",
         "1",
         "2010-05-01 14:48:00+00:00",
         "5.854465e+21",
         "25.876",
         "75.671",
         "85.297",
         "33.556",
         "-0.40370283",
         "5911234000000.0",
         "-0.01245547",
         "-0.00369359",
         "266.849",
         "34.084",
         "2401030000000.0",
         "1570.732",
         "1.924963e+22",
         "20.672",
         "5.104",
         "243.12854",
         "-4.120392",
         "2096",
         "0",
         "0",
         "0",
         " ",
         " ",
         "0",
         "0",
         "6355.0",
         "567.069214",
         "999.300537",
         "446.0",
         "39.797462",
         "69.040749",
         "22.158302",
         "-74.033058",
         "25.65608",
         "-65.546875",
         "23.729307",
         "-69.602234",
         "23.720182",
         "-70.012299",
         "23.794512",
         "-66.671707",
         "2010-05-01 00:00:00+00:00",
         "2010-05-11 16:12:00+00:00",
         "11067",
         "1",
         "11067"
        ]
       ],
       "shape": {
        "columns": 49,
        "rows": 5
       }
      },
      "text/html": [
       "<div>\n",
       "<style scoped>\n",
       "    .dataframe tbody tr th:only-of-type {\n",
       "        vertical-align: middle;\n",
       "    }\n",
       "\n",
       "    .dataframe tbody tr th {\n",
       "        vertical-align: top;\n",
       "    }\n",
       "\n",
       "    .dataframe thead th {\n",
       "        text-align: right;\n",
       "    }\n",
       "</style>\n",
       "<table border=\"1\" class=\"dataframe\">\n",
       "  <thead>\n",
       "    <tr style=\"text-align: right;\">\n",
       "      <th></th>\n",
       "      <th>HARPNUM</th>\n",
       "      <th>T_REC</th>\n",
       "      <th>USFLUX</th>\n",
       "      <th>MEANGAM</th>\n",
       "      <th>MEANGBT</th>\n",
       "      <th>MEANGBZ</th>\n",
       "      <th>MEANGBH</th>\n",
       "      <th>MEANJZD</th>\n",
       "      <th>TOTUSJZ</th>\n",
       "      <th>MEANALP</th>\n",
       "      <th>...</th>\n",
       "      <th>LON_FWT</th>\n",
       "      <th>LAT_FWTPOS</th>\n",
       "      <th>LON_FWTPOS</th>\n",
       "      <th>LAT_FWTNEG</th>\n",
       "      <th>LON_FWTNEG</th>\n",
       "      <th>T_FRST1</th>\n",
       "      <th>T_LAST1</th>\n",
       "      <th>NOAA_AR</th>\n",
       "      <th>NOAA_NUM</th>\n",
       "      <th>NOAA_ARS</th>\n",
       "    </tr>\n",
       "  </thead>\n",
       "  <tbody>\n",
       "    <tr>\n",
       "      <th>0</th>\n",
       "      <td>1</td>\n",
       "      <td>2010-05-01 14:00:00+00:00</td>\n",
       "      <td>5.827622e+21</td>\n",
       "      <td>23.887</td>\n",
       "      <td>73.347</td>\n",
       "      <td>77.564</td>\n",
       "      <td>31.354</td>\n",
       "      <td>-0.151826</td>\n",
       "      <td>4.860817e+12</td>\n",
       "      <td>0.000398</td>\n",
       "      <td>...</td>\n",
       "      <td>-69.996475</td>\n",
       "      <td>23.742485</td>\n",
       "      <td>-70.418633</td>\n",
       "      <td>23.806280</td>\n",
       "      <td>-67.113625</td>\n",
       "      <td>2010-05-01 00:00:00+00:00</td>\n",
       "      <td>2010-05-11 16:12:00+00:00</td>\n",
       "      <td>11067</td>\n",
       "      <td>1</td>\n",
       "      <td>11067</td>\n",
       "    </tr>\n",
       "    <tr>\n",
       "      <th>1</th>\n",
       "      <td>1</td>\n",
       "      <td>2010-05-01 14:12:00+00:00</td>\n",
       "      <td>5.768150e+21</td>\n",
       "      <td>24.708</td>\n",
       "      <td>71.970</td>\n",
       "      <td>76.249</td>\n",
       "      <td>31.197</td>\n",
       "      <td>-0.226835</td>\n",
       "      <td>4.908301e+12</td>\n",
       "      <td>0.000081</td>\n",
       "      <td>...</td>\n",
       "      <td>-69.953972</td>\n",
       "      <td>23.769396</td>\n",
       "      <td>-70.363503</td>\n",
       "      <td>23.788214</td>\n",
       "      <td>-67.011284</td>\n",
       "      <td>2010-05-01 00:00:00+00:00</td>\n",
       "      <td>2010-05-11 16:12:00+00:00</td>\n",
       "      <td>11067</td>\n",
       "      <td>1</td>\n",
       "      <td>11067</td>\n",
       "    </tr>\n",
       "    <tr>\n",
       "      <th>2</th>\n",
       "      <td>1</td>\n",
       "      <td>2010-05-01 14:24:00+00:00</td>\n",
       "      <td>5.865157e+21</td>\n",
       "      <td>25.657</td>\n",
       "      <td>74.254</td>\n",
       "      <td>82.154</td>\n",
       "      <td>32.748</td>\n",
       "      <td>-0.260023</td>\n",
       "      <td>5.577384e+12</td>\n",
       "      <td>-0.009573</td>\n",
       "      <td>...</td>\n",
       "      <td>-69.793488</td>\n",
       "      <td>23.754747</td>\n",
       "      <td>-70.199081</td>\n",
       "      <td>23.777744</td>\n",
       "      <td>-66.899902</td>\n",
       "      <td>2010-05-01 00:00:00+00:00</td>\n",
       "      <td>2010-05-11 16:12:00+00:00</td>\n",
       "      <td>11067</td>\n",
       "      <td>1</td>\n",
       "      <td>11067</td>\n",
       "    </tr>\n",
       "    <tr>\n",
       "      <th>3</th>\n",
       "      <td>1</td>\n",
       "      <td>2010-05-01 14:36:00+00:00</td>\n",
       "      <td>5.854875e+21</td>\n",
       "      <td>25.242</td>\n",
       "      <td>74.539</td>\n",
       "      <td>81.896</td>\n",
       "      <td>33.026</td>\n",
       "      <td>-0.199640</td>\n",
       "      <td>5.290721e+12</td>\n",
       "      <td>-0.013852</td>\n",
       "      <td>...</td>\n",
       "      <td>-69.734100</td>\n",
       "      <td>23.757551</td>\n",
       "      <td>-70.166977</td>\n",
       "      <td>23.768915</td>\n",
       "      <td>-66.779518</td>\n",
       "      <td>2010-05-01 00:00:00+00:00</td>\n",
       "      <td>2010-05-11 16:12:00+00:00</td>\n",
       "      <td>11067</td>\n",
       "      <td>1</td>\n",
       "      <td>11067</td>\n",
       "    </tr>\n",
       "    <tr>\n",
       "      <th>4</th>\n",
       "      <td>1</td>\n",
       "      <td>2010-05-01 14:48:00+00:00</td>\n",
       "      <td>5.854465e+21</td>\n",
       "      <td>25.876</td>\n",
       "      <td>75.671</td>\n",
       "      <td>85.297</td>\n",
       "      <td>33.556</td>\n",
       "      <td>-0.403703</td>\n",
       "      <td>5.911234e+12</td>\n",
       "      <td>-0.012455</td>\n",
       "      <td>...</td>\n",
       "      <td>-69.602234</td>\n",
       "      <td>23.720182</td>\n",
       "      <td>-70.012299</td>\n",
       "      <td>23.794512</td>\n",
       "      <td>-66.671707</td>\n",
       "      <td>2010-05-01 00:00:00+00:00</td>\n",
       "      <td>2010-05-11 16:12:00+00:00</td>\n",
       "      <td>11067</td>\n",
       "      <td>1</td>\n",
       "      <td>11067</td>\n",
       "    </tr>\n",
       "  </tbody>\n",
       "</table>\n",
       "<p>5 rows × 49 columns</p>\n",
       "</div>"
      ],
      "text/plain": [
       "   HARPNUM                     T_REC        USFLUX  MEANGAM  MEANGBT  MEANGBZ  \\\n",
       "0        1 2010-05-01 14:00:00+00:00  5.827622e+21   23.887   73.347   77.564   \n",
       "1        1 2010-05-01 14:12:00+00:00  5.768150e+21   24.708   71.970   76.249   \n",
       "2        1 2010-05-01 14:24:00+00:00  5.865157e+21   25.657   74.254   82.154   \n",
       "3        1 2010-05-01 14:36:00+00:00  5.854875e+21   25.242   74.539   81.896   \n",
       "4        1 2010-05-01 14:48:00+00:00  5.854465e+21   25.876   75.671   85.297   \n",
       "\n",
       "   MEANGBH   MEANJZD       TOTUSJZ   MEANALP  ...    LON_FWT  LAT_FWTPOS  \\\n",
       "0   31.354 -0.151826  4.860817e+12  0.000398  ... -69.996475   23.742485   \n",
       "1   31.197 -0.226835  4.908301e+12  0.000081  ... -69.953972   23.769396   \n",
       "2   32.748 -0.260023  5.577384e+12 -0.009573  ... -69.793488   23.754747   \n",
       "3   33.026 -0.199640  5.290721e+12 -0.013852  ... -69.734100   23.757551   \n",
       "4   33.556 -0.403703  5.911234e+12 -0.012455  ... -69.602234   23.720182   \n",
       "\n",
       "   LON_FWTPOS  LAT_FWTNEG  LON_FWTNEG                   T_FRST1  \\\n",
       "0  -70.418633   23.806280  -67.113625 2010-05-01 00:00:00+00:00   \n",
       "1  -70.363503   23.788214  -67.011284 2010-05-01 00:00:00+00:00   \n",
       "2  -70.199081   23.777744  -66.899902 2010-05-01 00:00:00+00:00   \n",
       "3  -70.166977   23.768915  -66.779518 2010-05-01 00:00:00+00:00   \n",
       "4  -70.012299   23.794512  -66.671707 2010-05-01 00:00:00+00:00   \n",
       "\n",
       "                    T_LAST1  NOAA_AR  NOAA_NUM  NOAA_ARS  \n",
       "0 2010-05-11 16:12:00+00:00    11067         1     11067  \n",
       "1 2010-05-11 16:12:00+00:00    11067         1     11067  \n",
       "2 2010-05-11 16:12:00+00:00    11067         1     11067  \n",
       "3 2010-05-11 16:12:00+00:00    11067         1     11067  \n",
       "4 2010-05-11 16:12:00+00:00    11067         1     11067  \n",
       "\n",
       "[5 rows x 49 columns]"
      ]
     },
     "execution_count": 2,
     "metadata": {},
     "output_type": "execute_result"
    }
   ],
   "source": [
    "harp_data = pd.read_parquet(\"../harp_data/hmi_sharp_cea_720s/data/processed/processed_high-qual_near-center-70_no-nas.parquet\")\n",
    "harp_data.head()"
   ]
  },
  {
   "cell_type": "markdown",
   "metadata": {},
   "source": [
    "No HARP has more than around 2,000 records, i.e., no HARP was observed for more than 24,000 minutes (400 hours, 17 days)."
   ]
  },
  {
   "cell_type": "code",
   "execution_count": 3,
   "metadata": {},
   "outputs": [
    {
     "data": {
      "text/plain": [
       "HARPNUM\n",
       "8737     1845\n",
       "3784     1795\n",
       "11430    1780\n",
       "1126     1766\n",
       "10727    1742\n",
       "         ... \n",
       "10832       3\n",
       "10944       3\n",
       "3538        1\n",
       "5968        1\n",
       "1486        1\n",
       "Name: count, Length: 6095, dtype: Int64"
      ]
     },
     "execution_count": 3,
     "metadata": {},
     "output_type": "execute_result"
    }
   ],
   "source": [
    "harp_data[\"HARPNUM\"].value_counts()"
   ]
  },
  {
   "cell_type": "code",
   "execution_count": 80,
   "metadata": {},
   "outputs": [],
   "source": [
    "# harp_data.groupby(harp_data[\"HARPNUM\"])[\"NOAA_AR\"].nunique().value_counts()"
   ]
  },
  {
   "cell_type": "markdown",
   "metadata": {},
   "source": [
    "For some HARP records, there is no matching NOAA active region (AR); for these records, `NOAA_AR` equals zero. We replace the zeros with `pd.NA`'s so we can easily count unique ARs by HARP. Most HARPs don't correspond to any AR; a handful correspond to two ARs."
   ]
  },
  {
   "cell_type": "code",
   "execution_count": 4,
   "metadata": {},
   "outputs": [
    {
     "data": {
      "text/plain": [
       "NOAA_AR\n",
       "0    4067\n",
       "1    2022\n",
       "2       6\n",
       "Name: count, dtype: int64"
      ]
     },
     "execution_count": 4,
     "metadata": {},
     "output_type": "execute_result"
    }
   ],
   "source": [
    "noaa_ars = harp_data[\"NOAA_AR\"].replace(0, pd.NA)\n",
    "noaa_ars_by_harp = noaa_ars.groupby(harp_data[\"HARPNUM\"]).nunique()\n",
    "noaa_ars_by_harp.value_counts()"
   ]
  },
  {
   "cell_type": "markdown",
   "metadata": {},
   "source": [
    "We only retain the flare data columns that we need. Ke Hu suggested using `noaa_ar_5min` instead of `noaa_ar_5s` since the latter is based on a rule that's too restrictive. We discard flare records that lack `end time`s. See `notebooks/process_flare_data.ipynb` for more information on those records."
   ]
  },
  {
   "cell_type": "code",
   "execution_count": 5,
   "metadata": {},
   "outputs": [
    {
     "data": {
      "application/vnd.microsoft.datawrangler.viewer.v0+json": {
       "columns": [
        {
         "name": "index",
         "rawType": "int64",
         "type": "integer"
        },
        {
         "name": "noaa_ar_5min",
         "rawType": "Int64",
         "type": "integer"
        },
        {
         "name": "start time",
         "rawType": "datetime64[ns, UTC]",
         "type": "unknown"
        },
        {
         "name": "peak time",
         "rawType": "datetime64[ns, UTC]",
         "type": "unknown"
        },
        {
         "name": "end time",
         "rawType": "datetime64[ns, UTC]",
         "type": "unknown"
        },
        {
         "name": "flare_class",
         "rawType": "string",
         "type": "string"
        },
        {
         "name": "peak_intensity",
         "rawType": "float64",
         "type": "float"
        }
       ],
       "conversionMethod": "pd.DataFrame",
       "ref": "cbbb8834-29b6-420e-a0a5-26ac0712da7c",
       "rows": [
        [
         "0",
         null,
         "2010-01-01 06:02:00+00:00",
         "2010-01-01 06:09:00+00:00",
         "2010-01-01 06:13:00+00:00",
         "B",
         "1.1e-07"
        ],
        [
         "1",
         "0",
         "2010-01-01 12:00:00+00:00",
         "2010-01-01 12:09:00+00:00",
         "2010-01-01 12:19:00+00:00",
         "B",
         "2.7e-07"
        ],
        [
         "2",
         "0",
         "2010-01-01 12:27:00+00:00",
         "2010-01-01 12:43:00+00:00",
         "2010-01-01 13:09:00+00:00",
         "B",
         "3.2999999999999996e-07"
        ],
        [
         "3",
         null,
         "2010-01-01 15:58:00+00:00",
         "2010-01-01 16:20:00+00:00",
         "2010-01-01 16:31:00+00:00",
         "B",
         "2.5e-07"
        ],
        [
         "4",
         null,
         "2010-01-01 18:20:00+00:00",
         "2010-01-01 18:27:00+00:00",
         "2010-01-01 18:31:00+00:00",
         "B",
         "1.3e-07"
        ]
       ],
       "shape": {
        "columns": 6,
        "rows": 5
       }
      },
      "text/html": [
       "<div>\n",
       "<style scoped>\n",
       "    .dataframe tbody tr th:only-of-type {\n",
       "        vertical-align: middle;\n",
       "    }\n",
       "\n",
       "    .dataframe tbody tr th {\n",
       "        vertical-align: top;\n",
       "    }\n",
       "\n",
       "    .dataframe thead th {\n",
       "        text-align: right;\n",
       "    }\n",
       "</style>\n",
       "<table border=\"1\" class=\"dataframe\">\n",
       "  <thead>\n",
       "    <tr style=\"text-align: right;\">\n",
       "      <th></th>\n",
       "      <th>noaa_ar_5min</th>\n",
       "      <th>start time</th>\n",
       "      <th>peak time</th>\n",
       "      <th>end time</th>\n",
       "      <th>flare_class</th>\n",
       "      <th>peak_intensity</th>\n",
       "    </tr>\n",
       "  </thead>\n",
       "  <tbody>\n",
       "    <tr>\n",
       "      <th>0</th>\n",
       "      <td>&lt;NA&gt;</td>\n",
       "      <td>2010-01-01 06:02:00+00:00</td>\n",
       "      <td>2010-01-01 06:09:00+00:00</td>\n",
       "      <td>2010-01-01 06:13:00+00:00</td>\n",
       "      <td>B</td>\n",
       "      <td>1.100000e-07</td>\n",
       "    </tr>\n",
       "    <tr>\n",
       "      <th>1</th>\n",
       "      <td>0</td>\n",
       "      <td>2010-01-01 12:00:00+00:00</td>\n",
       "      <td>2010-01-01 12:09:00+00:00</td>\n",
       "      <td>2010-01-01 12:19:00+00:00</td>\n",
       "      <td>B</td>\n",
       "      <td>2.700000e-07</td>\n",
       "    </tr>\n",
       "    <tr>\n",
       "      <th>2</th>\n",
       "      <td>0</td>\n",
       "      <td>2010-01-01 12:27:00+00:00</td>\n",
       "      <td>2010-01-01 12:43:00+00:00</td>\n",
       "      <td>2010-01-01 13:09:00+00:00</td>\n",
       "      <td>B</td>\n",
       "      <td>3.300000e-07</td>\n",
       "    </tr>\n",
       "    <tr>\n",
       "      <th>3</th>\n",
       "      <td>&lt;NA&gt;</td>\n",
       "      <td>2010-01-01 15:58:00+00:00</td>\n",
       "      <td>2010-01-01 16:20:00+00:00</td>\n",
       "      <td>2010-01-01 16:31:00+00:00</td>\n",
       "      <td>B</td>\n",
       "      <td>2.500000e-07</td>\n",
       "    </tr>\n",
       "    <tr>\n",
       "      <th>4</th>\n",
       "      <td>&lt;NA&gt;</td>\n",
       "      <td>2010-01-01 18:20:00+00:00</td>\n",
       "      <td>2010-01-01 18:27:00+00:00</td>\n",
       "      <td>2010-01-01 18:31:00+00:00</td>\n",
       "      <td>B</td>\n",
       "      <td>1.300000e-07</td>\n",
       "    </tr>\n",
       "  </tbody>\n",
       "</table>\n",
       "</div>"
      ],
      "text/plain": [
       "   noaa_ar_5min                start time                 peak time  \\\n",
       "0          <NA> 2010-01-01 06:02:00+00:00 2010-01-01 06:09:00+00:00   \n",
       "1             0 2010-01-01 12:00:00+00:00 2010-01-01 12:09:00+00:00   \n",
       "2             0 2010-01-01 12:27:00+00:00 2010-01-01 12:43:00+00:00   \n",
       "3          <NA> 2010-01-01 15:58:00+00:00 2010-01-01 16:20:00+00:00   \n",
       "4          <NA> 2010-01-01 18:20:00+00:00 2010-01-01 18:27:00+00:00   \n",
       "\n",
       "                   end time flare_class  peak_intensity  \n",
       "0 2010-01-01 06:13:00+00:00           B    1.100000e-07  \n",
       "1 2010-01-01 12:19:00+00:00           B    2.700000e-07  \n",
       "2 2010-01-01 13:09:00+00:00           B    3.300000e-07  \n",
       "3 2010-01-01 16:31:00+00:00           B    2.500000e-07  \n",
       "4 2010-01-01 18:31:00+00:00           B    1.300000e-07  "
      ]
     },
     "execution_count": 5,
     "metadata": {},
     "output_type": "execute_result"
    }
   ],
   "source": [
    "flare_data = pd.read_parquet(\"../flare_data/flare_data.parquet\")\n",
    "flare_data = flare_data[[\"noaa_ar_5min\", \"start time\", \"peak time\", \"end time\", \"flare_class\", \"peak_intensity\"]]\n",
    "flare_data = flare_data[~flare_data[\"end time\"].isna()]\n",
    "flare_data.head()"
   ]
  },
  {
   "cell_type": "markdown",
   "metadata": {},
   "source": [
    "The following function calculates the proportion of flares in a given data frame that have a matching AR and the proportion that don't."
   ]
  },
  {
   "cell_type": "code",
   "execution_count": 6,
   "metadata": {},
   "outputs": [],
   "source": [
    "def calc_prop_w_ar(flare_df: pd.DataFrame) -> pd.Series:\n",
    "    is_non_na_nonzero = ~flare_df[\"noaa_ar_5min\"].isna() & (flare_df[\"noaa_ar_5min\"] > 0)\n",
    "    props = is_non_na_nonzero.value_counts(normalize=True, sort=False)\n",
    "    if not True in props.index:\n",
    "        missing_entry = pd.Series([0], index=[True])\n",
    "        props = pd.concat([props, missing_entry])\n",
    "    if not False in props.index:\n",
    "        missing_entry = pd.Series([0], index=[False])\n",
    "        props = pd.concat([props, missing_entry])\n",
    "    props.sort_index(ascending=False, inplace=True)\n",
    "    return props"
   ]
  },
  {
   "cell_type": "markdown",
   "metadata": {},
   "source": [
    "Slightly less than two-thirds of flares have a matching AR."
   ]
  },
  {
   "cell_type": "code",
   "execution_count": 7,
   "metadata": {},
   "outputs": [
    {
     "data": {
      "text/plain": [
       "noaa_ar_5min\n",
       "True     0.62391\n",
       "False    0.37609\n",
       "Name: proportion, dtype: Float64"
      ]
     },
     "execution_count": 7,
     "metadata": {},
     "output_type": "execute_result"
    }
   ],
   "source": [
    "calc_prop_w_ar(flare_data)"
   ]
  },
  {
   "cell_type": "markdown",
   "metadata": {},
   "source": [
    "The proportion of flares with a matching AR increases with flare strength."
   ]
  },
  {
   "cell_type": "code",
   "execution_count": 8,
   "metadata": {},
   "outputs": [
    {
     "data": {
      "application/vnd.microsoft.datawrangler.viewer.v0+json": {
       "columns": [
        {
         "name": "flare_class",
         "rawType": "string",
         "type": "string"
        },
        {
         "name": "True",
         "rawType": "float64",
         "type": "float"
        },
        {
         "name": "False",
         "rawType": "float64",
         "type": "float"
        }
       ],
       "conversionMethod": "pd.DataFrame",
       "ref": "c019162f-46e2-4a6a-93e3-82712090e44b",
       "rows": [
        [
         "A",
         "0.0",
         "1.0"
        ],
        [
         "B",
         "0.43782357121104454",
         "0.5621764287889555"
        ],
        [
         "C",
         "0.7051306873184898",
         "0.2948693126815102"
        ],
        [
         "M",
         "0.9148471615720524",
         "0.0851528384279476"
        ],
        [
         "X",
         "0.991304347826087",
         "0.008695652173913044"
        ]
       ],
       "shape": {
        "columns": 2,
        "rows": 5
       }
      },
      "text/html": [
       "<div>\n",
       "<style scoped>\n",
       "    .dataframe tbody tr th:only-of-type {\n",
       "        vertical-align: middle;\n",
       "    }\n",
       "\n",
       "    .dataframe tbody tr th {\n",
       "        vertical-align: top;\n",
       "    }\n",
       "\n",
       "    .dataframe thead th {\n",
       "        text-align: right;\n",
       "    }\n",
       "</style>\n",
       "<table border=\"1\" class=\"dataframe\">\n",
       "  <thead>\n",
       "    <tr style=\"text-align: right;\">\n",
       "      <th></th>\n",
       "      <th>True</th>\n",
       "      <th>False</th>\n",
       "    </tr>\n",
       "    <tr>\n",
       "      <th>flare_class</th>\n",
       "      <th></th>\n",
       "      <th></th>\n",
       "    </tr>\n",
       "  </thead>\n",
       "  <tbody>\n",
       "    <tr>\n",
       "      <th>A</th>\n",
       "      <td>0.000000</td>\n",
       "      <td>1.000000</td>\n",
       "    </tr>\n",
       "    <tr>\n",
       "      <th>B</th>\n",
       "      <td>0.437824</td>\n",
       "      <td>0.562176</td>\n",
       "    </tr>\n",
       "    <tr>\n",
       "      <th>C</th>\n",
       "      <td>0.705131</td>\n",
       "      <td>0.294869</td>\n",
       "    </tr>\n",
       "    <tr>\n",
       "      <th>M</th>\n",
       "      <td>0.914847</td>\n",
       "      <td>0.085153</td>\n",
       "    </tr>\n",
       "    <tr>\n",
       "      <th>X</th>\n",
       "      <td>0.991304</td>\n",
       "      <td>0.008696</td>\n",
       "    </tr>\n",
       "  </tbody>\n",
       "</table>\n",
       "</div>"
      ],
      "text/plain": [
       "                True      False\n",
       "flare_class                    \n",
       "A            0.000000  1.000000\n",
       "B            0.437824  0.562176\n",
       "C            0.705131  0.294869\n",
       "M            0.914847  0.085153\n",
       "X            0.991304  0.008696"
      ]
     },
     "execution_count": 8,
     "metadata": {},
     "output_type": "execute_result"
    }
   ],
   "source": [
    "flare_data.groupby(\"flare_class\").apply(calc_prop_w_ar, include_groups=False)"
   ]
  },
  {
   "cell_type": "markdown",
   "metadata": {},
   "source": [
    "For many flares, `noaa_ar_5min` is missing. These flares should be deleted before matching flares to HARPs because Pandas seems to match records if their join keys are both missing."
   ]
  },
  {
   "cell_type": "code",
   "execution_count": 9,
   "metadata": {},
   "outputs": [
    {
     "data": {
      "text/plain": [
       "noaa_ar_5min\n",
       "False    20250\n",
       "True      7044\n",
       "Name: count, dtype: int64"
      ]
     },
     "execution_count": 9,
     "metadata": {},
     "output_type": "execute_result"
    }
   ],
   "source": [
    "flare_data[\"noaa_ar_5min\"].isna().value_counts()"
   ]
  },
  {
   "cell_type": "markdown",
   "metadata": {},
   "source": [
    "The data frame below was created by matching flares to HARPs using `scripts/match_flares_to_harps.py`."
   ]
  },
  {
   "cell_type": "code",
   "execution_count": 10,
   "metadata": {},
   "outputs": [
    {
     "data": {
      "application/vnd.microsoft.datawrangler.viewer.v0+json": {
       "columns": [
        {
         "name": "index",
         "rawType": "int64",
         "type": "integer"
        },
        {
         "name": "HARPNUM",
         "rawType": "Int64",
         "type": "integer"
        },
        {
         "name": "T_REC",
         "rawType": "datetime64[ns, UTC]",
         "type": "unknown"
        },
        {
         "name": "USFLUX",
         "rawType": "float64",
         "type": "float"
        },
        {
         "name": "MEANGAM",
         "rawType": "float64",
         "type": "float"
        },
        {
         "name": "MEANGBT",
         "rawType": "float64",
         "type": "float"
        },
        {
         "name": "MEANGBZ",
         "rawType": "float64",
         "type": "float"
        },
        {
         "name": "MEANGBH",
         "rawType": "float64",
         "type": "float"
        },
        {
         "name": "MEANJZD",
         "rawType": "float64",
         "type": "float"
        },
        {
         "name": "TOTUSJZ",
         "rawType": "float64",
         "type": "float"
        },
        {
         "name": "MEANALP",
         "rawType": "float64",
         "type": "float"
        },
        {
         "name": "MEANJZH",
         "rawType": "float64",
         "type": "float"
        },
        {
         "name": "TOTUSJH",
         "rawType": "float64",
         "type": "float"
        },
        {
         "name": "ABSNJZH",
         "rawType": "float64",
         "type": "float"
        },
        {
         "name": "SAVNCPP",
         "rawType": "float64",
         "type": "float"
        },
        {
         "name": "MEANPOT",
         "rawType": "float64",
         "type": "float"
        },
        {
         "name": "TOTPOT",
         "rawType": "float64",
         "type": "float"
        },
        {
         "name": "MEANSHR",
         "rawType": "float64",
         "type": "float"
        },
        {
         "name": "SHRGT45",
         "rawType": "float64",
         "type": "float"
        },
        {
         "name": "CRLN_OBS",
         "rawType": "float64",
         "type": "float"
        },
        {
         "name": "CRLT_OBS",
         "rawType": "float64",
         "type": "float"
        },
        {
         "name": "CAR_ROT",
         "rawType": "Int64",
         "type": "integer"
        },
        {
         "name": "QUALITY",
         "rawType": "Int64",
         "type": "integer"
        },
        {
         "name": "QUAL_S",
         "rawType": "Int64",
         "type": "integer"
        },
        {
         "name": "QUALLEV1",
         "rawType": "Int64",
         "type": "integer"
        },
        {
         "name": "HISTORY",
         "rawType": "object",
         "type": "string"
        },
        {
         "name": "COMMENT",
         "rawType": "object",
         "type": "string"
        },
        {
         "name": "H_MERGE",
         "rawType": "Int64",
         "type": "integer"
        },
        {
         "name": "H_FAINT",
         "rawType": "Int64",
         "type": "integer"
        },
        {
         "name": "NPIX",
         "rawType": "float64",
         "type": "float"
        },
        {
         "name": "SIZE",
         "rawType": "float64",
         "type": "float"
        },
        {
         "name": "AREA",
         "rawType": "float64",
         "type": "float"
        },
        {
         "name": "NACR",
         "rawType": "float64",
         "type": "float"
        },
        {
         "name": "SIZE_ACR",
         "rawType": "float64",
         "type": "float"
        },
        {
         "name": "AREA_ACR",
         "rawType": "float64",
         "type": "float"
        },
        {
         "name": "LAT_MIN",
         "rawType": "float64",
         "type": "float"
        },
        {
         "name": "LON_MIN",
         "rawType": "float64",
         "type": "float"
        },
        {
         "name": "LAT_MAX",
         "rawType": "float64",
         "type": "float"
        },
        {
         "name": "LON_MAX",
         "rawType": "float64",
         "type": "float"
        },
        {
         "name": "LAT_FWT",
         "rawType": "float64",
         "type": "float"
        },
        {
         "name": "LON_FWT",
         "rawType": "float64",
         "type": "float"
        },
        {
         "name": "LAT_FWTPOS",
         "rawType": "float64",
         "type": "float"
        },
        {
         "name": "LON_FWTPOS",
         "rawType": "float64",
         "type": "float"
        },
        {
         "name": "LAT_FWTNEG",
         "rawType": "float64",
         "type": "float"
        },
        {
         "name": "LON_FWTNEG",
         "rawType": "float64",
         "type": "float"
        },
        {
         "name": "T_FRST1",
         "rawType": "datetime64[ns, UTC]",
         "type": "unknown"
        },
        {
         "name": "T_LAST1",
         "rawType": "datetime64[ns, UTC]",
         "type": "unknown"
        },
        {
         "name": "NOAA_AR",
         "rawType": "Int64",
         "type": "integer"
        },
        {
         "name": "NOAA_NUM",
         "rawType": "Int64",
         "type": "integer"
        },
        {
         "name": "NOAA_ARS",
         "rawType": "object",
         "type": "string"
        },
        {
         "name": "start time",
         "rawType": "datetime64[ns, UTC]",
         "type": "unknown"
        },
        {
         "name": "peak time",
         "rawType": "datetime64[ns, UTC]",
         "type": "unknown"
        },
        {
         "name": "end time",
         "rawType": "datetime64[ns, UTC]",
         "type": "unknown"
        },
        {
         "name": "flare_class",
         "rawType": "string",
         "type": "string"
        },
        {
         "name": "peak_intensity",
         "rawType": "float64",
         "type": "float"
        }
       ],
       "conversionMethod": "pd.DataFrame",
       "ref": "4f16c97c-413d-4f13-829e-c12e632c229c",
       "rows": [
        [
         "0",
         "1",
         "2010-05-01 14:00:00+00:00",
         "5.827622e+21",
         "23.887",
         "73.347",
         "77.564",
         "31.354",
         "-0.1518264",
         "4860817000000.0",
         "0.00039796",
         "0.00012743",
         "253.948",
         "1.101",
         "700261400000.0",
         "1435.344",
         "1.646767e+22",
         "17.746",
         "1.655",
         "243.569275",
         "-4.121475",
         "2096",
         "0",
         "0",
         "0",
         " ",
         " ",
         "0",
         "0",
         "6214.0",
         "554.527771",
         "1002.941345",
         "431.0",
         "38.461773",
         "68.236092",
         "22.10144",
         "-74.534958",
         "25.642115",
         "-66.018166",
         "23.750633",
         "-69.996475",
         "23.742485",
         "-70.418633",
         "23.80628",
         "-67.113625",
         "2010-05-01 00:00:00+00:00",
         "2010-05-11 16:12:00+00:00",
         "11067",
         "1",
         "11067",
         null,
         null,
         null,
         null,
         null
        ],
        [
         "1",
         "1",
         "2010-05-01 14:12:00+00:00",
         "5.76815e+21",
         "24.708",
         "71.97",
         "76.249",
         "31.197",
         "-0.22683525",
         "4908301000000.0",
         "8.137e-05",
         "2.573e-05",
         "252.069",
         "0.222",
         "1044749000000.0",
         "1479.076",
         "1.694583e+22",
         "18.494",
         "2.26",
         "243.459137",
         "-4.121171",
         "2096",
         "0",
         "0",
         "0",
         " ",
         " ",
         "0",
         "0",
         "6251.0",
         "557.817139",
         "1001.87793",
         "437.0",
         "38.996338",
         "69.012444",
         "22.123947",
         "-74.394951",
         "25.64279",
         "-65.896187",
         "23.771694",
         "-69.953972",
         "23.769396",
         "-70.363503",
         "23.788214",
         "-67.011284",
         "2010-05-01 00:00:00+00:00",
         "2010-05-11 16:12:00+00:00",
         "11067",
         "1",
         "11067",
         null,
         null,
         null,
         null,
         null
        ],
        [
         "2",
         "1",
         "2010-05-01 14:24:00+00:00",
         "5.865157e+21",
         "25.657",
         "74.254",
         "82.154",
         "32.748",
         "-0.26002339",
         "5577384000000.0",
         "-0.00957323",
         "-0.00287449",
         "262.044",
         "26.106",
         "1806319000000.0",
         "1700.549",
         "2.051083e+22",
         "20.083",
         "4.338",
         "243.348984",
         "-4.120891",
         "2096",
         "0",
         "0",
         "0",
         " ",
         " ",
         "0",
         "0",
         "6286.0",
         "560.930603",
         "1001.542358",
         "432.0",
         "38.549477",
         "67.530121",
         "22.149277",
         "-74.289665",
         "25.659647",
         "-65.770721",
         "23.757574",
         "-69.793488",
         "23.754747",
         "-70.199081",
         "23.777744",
         "-66.899902",
         "2010-05-01 00:00:00+00:00",
         "2010-05-11 16:12:00+00:00",
         "11067",
         "1",
         "11067",
         null,
         null,
         null,
         null,
         null
        ],
        [
         "3",
         "1",
         "2010-05-01 14:36:00+00:00",
         "5.854875e+21",
         "25.242",
         "74.539",
         "81.896",
         "33.026",
         "-0.1996403",
         "5290721000000.0",
         "-0.01385247",
         "-0.00424683",
         "257.373",
         "38.064",
         "2733141000000.0",
         "1552.869",
         "1.84842e+22",
         "19.097",
         "3.436",
         "243.238785",
         "-4.120632",
         "2096",
         "0",
         "0",
         "0",
         " ",
         " ",
         "0",
         "0",
         "6312.0",
         "563.241211",
         "998.930847",
         "407.0",
         "36.317993",
         "63.440701",
         "22.157278",
         "-74.155388",
         "25.652056",
         "-65.668182",
         "23.759003",
         "-69.7341",
         "23.757551",
         "-70.166977",
         "23.768915",
         "-66.779518",
         "2010-05-01 00:00:00+00:00",
         "2010-05-11 16:12:00+00:00",
         "11067",
         "1",
         "11067",
         null,
         null,
         null,
         null,
         null
        ],
        [
         "4",
         "1",
         "2010-05-01 14:48:00+00:00",
         "5.854465e+21",
         "25.876",
         "75.671",
         "85.297",
         "33.556",
         "-0.40370283",
         "5911234000000.0",
         "-0.01245547",
         "-0.00369359",
         "266.849",
         "34.084",
         "2401030000000.0",
         "1570.732",
         "1.924963e+22",
         "20.672",
         "5.104",
         "243.12854",
         "-4.120392",
         "2096",
         "0",
         "0",
         "0",
         " ",
         " ",
         "0",
         "0",
         "6355.0",
         "567.069214",
         "999.300537",
         "446.0",
         "39.797462",
         "69.040749",
         "22.158302",
         "-74.033058",
         "25.65608",
         "-65.546875",
         "23.729307",
         "-69.602234",
         "23.720182",
         "-70.012299",
         "23.794512",
         "-66.671707",
         "2010-05-01 00:00:00+00:00",
         "2010-05-11 16:12:00+00:00",
         "11067",
         "1",
         "11067",
         null,
         null,
         null,
         null,
         null
        ]
       ],
       "shape": {
        "columns": 54,
        "rows": 5
       }
      },
      "text/html": [
       "<div>\n",
       "<style scoped>\n",
       "    .dataframe tbody tr th:only-of-type {\n",
       "        vertical-align: middle;\n",
       "    }\n",
       "\n",
       "    .dataframe tbody tr th {\n",
       "        vertical-align: top;\n",
       "    }\n",
       "\n",
       "    .dataframe thead th {\n",
       "        text-align: right;\n",
       "    }\n",
       "</style>\n",
       "<table border=\"1\" class=\"dataframe\">\n",
       "  <thead>\n",
       "    <tr style=\"text-align: right;\">\n",
       "      <th></th>\n",
       "      <th>HARPNUM</th>\n",
       "      <th>T_REC</th>\n",
       "      <th>USFLUX</th>\n",
       "      <th>MEANGAM</th>\n",
       "      <th>MEANGBT</th>\n",
       "      <th>MEANGBZ</th>\n",
       "      <th>MEANGBH</th>\n",
       "      <th>MEANJZD</th>\n",
       "      <th>TOTUSJZ</th>\n",
       "      <th>MEANALP</th>\n",
       "      <th>...</th>\n",
       "      <th>T_FRST1</th>\n",
       "      <th>T_LAST1</th>\n",
       "      <th>NOAA_AR</th>\n",
       "      <th>NOAA_NUM</th>\n",
       "      <th>NOAA_ARS</th>\n",
       "      <th>start time</th>\n",
       "      <th>peak time</th>\n",
       "      <th>end time</th>\n",
       "      <th>flare_class</th>\n",
       "      <th>peak_intensity</th>\n",
       "    </tr>\n",
       "  </thead>\n",
       "  <tbody>\n",
       "    <tr>\n",
       "      <th>0</th>\n",
       "      <td>1</td>\n",
       "      <td>2010-05-01 14:00:00+00:00</td>\n",
       "      <td>5.827622e+21</td>\n",
       "      <td>23.887</td>\n",
       "      <td>73.347</td>\n",
       "      <td>77.564</td>\n",
       "      <td>31.354</td>\n",
       "      <td>-0.151826</td>\n",
       "      <td>4.860817e+12</td>\n",
       "      <td>0.000398</td>\n",
       "      <td>...</td>\n",
       "      <td>2010-05-01 00:00:00+00:00</td>\n",
       "      <td>2010-05-11 16:12:00+00:00</td>\n",
       "      <td>11067</td>\n",
       "      <td>1</td>\n",
       "      <td>11067</td>\n",
       "      <td>NaT</td>\n",
       "      <td>NaT</td>\n",
       "      <td>NaT</td>\n",
       "      <td>&lt;NA&gt;</td>\n",
       "      <td>NaN</td>\n",
       "    </tr>\n",
       "    <tr>\n",
       "      <th>1</th>\n",
       "      <td>1</td>\n",
       "      <td>2010-05-01 14:12:00+00:00</td>\n",
       "      <td>5.768150e+21</td>\n",
       "      <td>24.708</td>\n",
       "      <td>71.970</td>\n",
       "      <td>76.249</td>\n",
       "      <td>31.197</td>\n",
       "      <td>-0.226835</td>\n",
       "      <td>4.908301e+12</td>\n",
       "      <td>0.000081</td>\n",
       "      <td>...</td>\n",
       "      <td>2010-05-01 00:00:00+00:00</td>\n",
       "      <td>2010-05-11 16:12:00+00:00</td>\n",
       "      <td>11067</td>\n",
       "      <td>1</td>\n",
       "      <td>11067</td>\n",
       "      <td>NaT</td>\n",
       "      <td>NaT</td>\n",
       "      <td>NaT</td>\n",
       "      <td>&lt;NA&gt;</td>\n",
       "      <td>NaN</td>\n",
       "    </tr>\n",
       "    <tr>\n",
       "      <th>2</th>\n",
       "      <td>1</td>\n",
       "      <td>2010-05-01 14:24:00+00:00</td>\n",
       "      <td>5.865157e+21</td>\n",
       "      <td>25.657</td>\n",
       "      <td>74.254</td>\n",
       "      <td>82.154</td>\n",
       "      <td>32.748</td>\n",
       "      <td>-0.260023</td>\n",
       "      <td>5.577384e+12</td>\n",
       "      <td>-0.009573</td>\n",
       "      <td>...</td>\n",
       "      <td>2010-05-01 00:00:00+00:00</td>\n",
       "      <td>2010-05-11 16:12:00+00:00</td>\n",
       "      <td>11067</td>\n",
       "      <td>1</td>\n",
       "      <td>11067</td>\n",
       "      <td>NaT</td>\n",
       "      <td>NaT</td>\n",
       "      <td>NaT</td>\n",
       "      <td>&lt;NA&gt;</td>\n",
       "      <td>NaN</td>\n",
       "    </tr>\n",
       "    <tr>\n",
       "      <th>3</th>\n",
       "      <td>1</td>\n",
       "      <td>2010-05-01 14:36:00+00:00</td>\n",
       "      <td>5.854875e+21</td>\n",
       "      <td>25.242</td>\n",
       "      <td>74.539</td>\n",
       "      <td>81.896</td>\n",
       "      <td>33.026</td>\n",
       "      <td>-0.199640</td>\n",
       "      <td>5.290721e+12</td>\n",
       "      <td>-0.013852</td>\n",
       "      <td>...</td>\n",
       "      <td>2010-05-01 00:00:00+00:00</td>\n",
       "      <td>2010-05-11 16:12:00+00:00</td>\n",
       "      <td>11067</td>\n",
       "      <td>1</td>\n",
       "      <td>11067</td>\n",
       "      <td>NaT</td>\n",
       "      <td>NaT</td>\n",
       "      <td>NaT</td>\n",
       "      <td>&lt;NA&gt;</td>\n",
       "      <td>NaN</td>\n",
       "    </tr>\n",
       "    <tr>\n",
       "      <th>4</th>\n",
       "      <td>1</td>\n",
       "      <td>2010-05-01 14:48:00+00:00</td>\n",
       "      <td>5.854465e+21</td>\n",
       "      <td>25.876</td>\n",
       "      <td>75.671</td>\n",
       "      <td>85.297</td>\n",
       "      <td>33.556</td>\n",
       "      <td>-0.403703</td>\n",
       "      <td>5.911234e+12</td>\n",
       "      <td>-0.012455</td>\n",
       "      <td>...</td>\n",
       "      <td>2010-05-01 00:00:00+00:00</td>\n",
       "      <td>2010-05-11 16:12:00+00:00</td>\n",
       "      <td>11067</td>\n",
       "      <td>1</td>\n",
       "      <td>11067</td>\n",
       "      <td>NaT</td>\n",
       "      <td>NaT</td>\n",
       "      <td>NaT</td>\n",
       "      <td>&lt;NA&gt;</td>\n",
       "      <td>NaN</td>\n",
       "    </tr>\n",
       "  </tbody>\n",
       "</table>\n",
       "<p>5 rows × 54 columns</p>\n",
       "</div>"
      ],
      "text/plain": [
       "   HARPNUM                     T_REC        USFLUX  MEANGAM  MEANGBT  MEANGBZ  \\\n",
       "0        1 2010-05-01 14:00:00+00:00  5.827622e+21   23.887   73.347   77.564   \n",
       "1        1 2010-05-01 14:12:00+00:00  5.768150e+21   24.708   71.970   76.249   \n",
       "2        1 2010-05-01 14:24:00+00:00  5.865157e+21   25.657   74.254   82.154   \n",
       "3        1 2010-05-01 14:36:00+00:00  5.854875e+21   25.242   74.539   81.896   \n",
       "4        1 2010-05-01 14:48:00+00:00  5.854465e+21   25.876   75.671   85.297   \n",
       "\n",
       "   MEANGBH   MEANJZD       TOTUSJZ   MEANALP  ...                   T_FRST1  \\\n",
       "0   31.354 -0.151826  4.860817e+12  0.000398  ... 2010-05-01 00:00:00+00:00   \n",
       "1   31.197 -0.226835  4.908301e+12  0.000081  ... 2010-05-01 00:00:00+00:00   \n",
       "2   32.748 -0.260023  5.577384e+12 -0.009573  ... 2010-05-01 00:00:00+00:00   \n",
       "3   33.026 -0.199640  5.290721e+12 -0.013852  ... 2010-05-01 00:00:00+00:00   \n",
       "4   33.556 -0.403703  5.911234e+12 -0.012455  ... 2010-05-01 00:00:00+00:00   \n",
       "\n",
       "                    T_LAST1  NOAA_AR  NOAA_NUM  NOAA_ARS  start time  \\\n",
       "0 2010-05-11 16:12:00+00:00    11067         1     11067         NaT   \n",
       "1 2010-05-11 16:12:00+00:00    11067         1     11067         NaT   \n",
       "2 2010-05-11 16:12:00+00:00    11067         1     11067         NaT   \n",
       "3 2010-05-11 16:12:00+00:00    11067         1     11067         NaT   \n",
       "4 2010-05-11 16:12:00+00:00    11067         1     11067         NaT   \n",
       "\n",
       "   peak time  end time  flare_class  peak_intensity  \n",
       "0        NaT       NaT         <NA>             NaN  \n",
       "1        NaT       NaT         <NA>             NaN  \n",
       "2        NaT       NaT         <NA>             NaN  \n",
       "3        NaT       NaT         <NA>             NaN  \n",
       "4        NaT       NaT         <NA>             NaN  \n",
       "\n",
       "[5 rows x 54 columns]"
      ]
     },
     "execution_count": 10,
     "metadata": {},
     "output_type": "execute_result"
    }
   ],
   "source": [
    "harp_flare_data = pd.read_parquet(\"../combined_data/processed_high-qual_near-center-70_no-nas_flares.parquet\")\n",
    "harp_flare_data.head()"
   ]
  },
  {
   "cell_type": "code",
   "execution_count": 104,
   "metadata": {},
   "outputs": [],
   "source": [
    "# import numpy as np\n",
    "# shouldnt_have_matches = harp_flare_data[\"NOAA_AR\"].isna() & ~harp_flare_data[\"start time\"].isna()\n",
    "# harp_flare_data.loc[shouldnt_have_matches, [\"start time\", \"peak time\", \"end time\", \"flare_class\"]] = pd.NA\n",
    "# harp_flare_data.loc[shouldnt_have_matches, \"peak_intensity\"] = np.nan\n",
    "# harp_flare_data.drop_duplicates(inplace=True)\n",
    "# harp_flare_data.to_parquet(\"../combined_data/harp_flare_data.parquet\")\n",
    "# (harp_flare_data[\"NOAA_AR\"].isna() & ~harp_flare_data[\"start time\"].isna()).any()"
   ]
  },
  {
   "cell_type": "markdown",
   "metadata": {},
   "source": [
    "A matching flare was found for very few HARP records."
   ]
  },
  {
   "cell_type": "code",
   "execution_count": 11,
   "metadata": {},
   "outputs": [
    {
     "data": {
      "text/plain": [
       "start time\n",
       "False    0.991272\n",
       "True     0.008728\n",
       "Name: proportion, dtype: float64"
      ]
     },
     "execution_count": 11,
     "metadata": {},
     "output_type": "execute_result"
    }
   ],
   "source": [
    "(~harp_flare_data[\"start time\"].isna()).value_counts(normalize=True)"
   ]
  },
  {
   "cell_type": "markdown",
   "metadata": {},
   "source": [
    "Flares were ongoing at very few times."
   ]
  },
  {
   "cell_type": "code",
   "execution_count": 12,
   "metadata": {},
   "outputs": [
    {
     "data": {
      "text/plain": [
       "start time\n",
       "False    0.959837\n",
       "True     0.040163\n",
       "Name: proportion, dtype: float64"
      ]
     },
     "execution_count": 12,
     "metadata": {},
     "output_type": "execute_result"
    }
   ],
   "source": [
    "was_during_flare = ~harp_flare_data[\"start time\"].isna()\n",
    "was_during_flare.groupby(harp_flare_data[\"T_REC\"]).any().value_counts(normalize=True)"
   ]
  },
  {
   "cell_type": "markdown",
   "metadata": {},
   "source": [
    "For a tiny number of HARP records, multiple matching flares were found."
   ]
  },
  {
   "cell_type": "code",
   "execution_count": 13,
   "metadata": {},
   "outputs": [
    {
     "data": {
      "application/vnd.microsoft.datawrangler.viewer.v0+json": {
       "columns": [
        {
         "name": "index",
         "rawType": "int64",
         "type": "integer"
        },
        {
         "name": "HARPNUM",
         "rawType": "Int64",
         "type": "integer"
        },
        {
         "name": "T_REC",
         "rawType": "datetime64[ns, UTC]",
         "type": "unknown"
        },
        {
         "name": "USFLUX",
         "rawType": "float64",
         "type": "float"
        },
        {
         "name": "MEANGAM",
         "rawType": "float64",
         "type": "float"
        },
        {
         "name": "MEANGBT",
         "rawType": "float64",
         "type": "float"
        },
        {
         "name": "MEANGBZ",
         "rawType": "float64",
         "type": "float"
        },
        {
         "name": "MEANGBH",
         "rawType": "float64",
         "type": "float"
        },
        {
         "name": "MEANJZD",
         "rawType": "float64",
         "type": "float"
        },
        {
         "name": "TOTUSJZ",
         "rawType": "float64",
         "type": "float"
        },
        {
         "name": "MEANALP",
         "rawType": "float64",
         "type": "float"
        },
        {
         "name": "MEANJZH",
         "rawType": "float64",
         "type": "float"
        },
        {
         "name": "TOTUSJH",
         "rawType": "float64",
         "type": "float"
        },
        {
         "name": "ABSNJZH",
         "rawType": "float64",
         "type": "float"
        },
        {
         "name": "SAVNCPP",
         "rawType": "float64",
         "type": "float"
        },
        {
         "name": "MEANPOT",
         "rawType": "float64",
         "type": "float"
        },
        {
         "name": "TOTPOT",
         "rawType": "float64",
         "type": "float"
        },
        {
         "name": "MEANSHR",
         "rawType": "float64",
         "type": "float"
        },
        {
         "name": "SHRGT45",
         "rawType": "float64",
         "type": "float"
        },
        {
         "name": "CRLN_OBS",
         "rawType": "float64",
         "type": "float"
        },
        {
         "name": "CRLT_OBS",
         "rawType": "float64",
         "type": "float"
        },
        {
         "name": "CAR_ROT",
         "rawType": "Int64",
         "type": "integer"
        },
        {
         "name": "QUALITY",
         "rawType": "Int64",
         "type": "integer"
        },
        {
         "name": "QUAL_S",
         "rawType": "Int64",
         "type": "integer"
        },
        {
         "name": "QUALLEV1",
         "rawType": "Int64",
         "type": "integer"
        },
        {
         "name": "HISTORY",
         "rawType": "object",
         "type": "string"
        },
        {
         "name": "COMMENT",
         "rawType": "object",
         "type": "string"
        },
        {
         "name": "H_MERGE",
         "rawType": "Int64",
         "type": "integer"
        },
        {
         "name": "H_FAINT",
         "rawType": "Int64",
         "type": "integer"
        },
        {
         "name": "NPIX",
         "rawType": "float64",
         "type": "float"
        },
        {
         "name": "SIZE",
         "rawType": "float64",
         "type": "float"
        },
        {
         "name": "AREA",
         "rawType": "float64",
         "type": "float"
        },
        {
         "name": "NACR",
         "rawType": "float64",
         "type": "float"
        },
        {
         "name": "SIZE_ACR",
         "rawType": "float64",
         "type": "float"
        },
        {
         "name": "AREA_ACR",
         "rawType": "float64",
         "type": "float"
        },
        {
         "name": "LAT_MIN",
         "rawType": "float64",
         "type": "float"
        },
        {
         "name": "LON_MIN",
         "rawType": "float64",
         "type": "float"
        },
        {
         "name": "LAT_MAX",
         "rawType": "float64",
         "type": "float"
        },
        {
         "name": "LON_MAX",
         "rawType": "float64",
         "type": "float"
        },
        {
         "name": "LAT_FWT",
         "rawType": "float64",
         "type": "float"
        },
        {
         "name": "LON_FWT",
         "rawType": "float64",
         "type": "float"
        },
        {
         "name": "LAT_FWTPOS",
         "rawType": "float64",
         "type": "float"
        },
        {
         "name": "LON_FWTPOS",
         "rawType": "float64",
         "type": "float"
        },
        {
         "name": "LAT_FWTNEG",
         "rawType": "float64",
         "type": "float"
        },
        {
         "name": "LON_FWTNEG",
         "rawType": "float64",
         "type": "float"
        },
        {
         "name": "T_FRST1",
         "rawType": "datetime64[ns, UTC]",
         "type": "unknown"
        },
        {
         "name": "T_LAST1",
         "rawType": "datetime64[ns, UTC]",
         "type": "unknown"
        },
        {
         "name": "NOAA_AR",
         "rawType": "Int64",
         "type": "integer"
        },
        {
         "name": "NOAA_NUM",
         "rawType": "Int64",
         "type": "integer"
        },
        {
         "name": "NOAA_ARS",
         "rawType": "object",
         "type": "string"
        },
        {
         "name": "start time",
         "rawType": "datetime64[ns, UTC]",
         "type": "unknown"
        },
        {
         "name": "peak time",
         "rawType": "datetime64[ns, UTC]",
         "type": "unknown"
        },
        {
         "name": "end time",
         "rawType": "datetime64[ns, UTC]",
         "type": "unknown"
        },
        {
         "name": "flare_class",
         "rawType": "string",
         "type": "string"
        },
        {
         "name": "peak_intensity",
         "rawType": "float64",
         "type": "float"
        },
        {
         "name": "num_recs",
         "rawType": "int64",
         "type": "integer"
        }
       ],
       "conversionMethod": "pd.DataFrame",
       "ref": "9b65f674-fb0b-4f3c-a849-2b1359539d53",
       "rows": [
        [
         "0",
         "46",
         "2010-06-09 13:36:00+00:00",
         "1.233112e+22",
         "41.343",
         "98.798",
         "104.587",
         "55.63",
         "-0.18148287",
         "14525880000000.0",
         "-0.0047185",
         "-0.00252124",
         "895.635",
         "40.279",
         "1571611000000.0",
         "7266.32",
         "1.54178e+23",
         "34.222",
         "27.152",
         "87.906578",
         "0.346478",
         "2097",
         "0",
         "0",
         "0",
         " ",
         " ",
         "0",
         "0",
         "34358.0",
         "3112.851074",
         "2874.839355",
         "4891.0",
         "443.126892",
         "408.554871",
         "-23.968489",
         "47.674397",
         "-17.936705",
         "61.749954",
         "-20.753918",
         "54.00795",
         "-20.936249",
         "52.476646",
         "-20.554569",
         "55.682156",
         "2010-06-02 20:00:00+00:00",
         "2010-06-12 03:00:00+00:00",
         "11078",
         "1",
         "11078",
         "2010-06-09 13:25:00+00:00",
         "2010-06-09 13:32:00+00:00",
         "2010-06-09 13:36:00+00:00",
         "B",
         "1.2e-07",
         "2"
        ],
        [
         "1",
         "46",
         "2010-06-09 13:36:00+00:00",
         "1.233112e+22",
         "41.343",
         "98.798",
         "104.587",
         "55.63",
         "-0.18148287",
         "14525880000000.0",
         "-0.0047185",
         "-0.00252124",
         "895.635",
         "40.279",
         "1571611000000.0",
         "7266.32",
         "1.54178e+23",
         "34.222",
         "27.152",
         "87.906578",
         "0.346478",
         "2097",
         "0",
         "0",
         "0",
         " ",
         " ",
         "0",
         "0",
         "34358.0",
         "3112.851074",
         "2874.839355",
         "4891.0",
         "443.126892",
         "408.554871",
         "-23.968489",
         "47.674397",
         "-17.936705",
         "61.749954",
         "-20.753918",
         "54.00795",
         "-20.936249",
         "52.476646",
         "-20.554569",
         "55.682156",
         "2010-06-02 20:00:00+00:00",
         "2010-06-12 03:00:00+00:00",
         "11078",
         "1",
         "11078",
         "2010-06-09 13:35:00+00:00",
         "2010-06-09 13:43:00+00:00",
         "2010-06-09 13:51:00+00:00",
         "B",
         "2.7999999999999997e-07",
         "2"
        ],
        [
         "2",
         "1449",
         "2012-03-06 07:48:00+00:00",
         "5.325347e+22",
         "51.939",
         "89.239",
         "105.911",
         "60.161",
         "0.01359814",
         "80792130000000.0",
         "-0.04725789",
         "-0.02950756",
         "5051.472",
         "2014.186",
         "75830390000000.0",
         "16893.83",
         "1.53151e+24",
         "46.582",
         "47.573",
         "337.568481",
         "-7.249815",
         "2121",
         "0",
         "0",
         "0",
         " ",
         " ",
         "0",
         "0",
         "151100.0",
         "13081.650391",
         "8801.200195",
         "31515.0",
         "2728.446045",
         "1877.578003",
         "12.467403",
         "-46.272591",
         "23.708258",
         "-15.592887",
         "17.602701",
         "-35.269165",
         "17.73255",
         "-33.541882",
         "17.504002",
         "-36.582088",
         "2012-03-02 16:24:00+00:00",
         "2012-03-16 00:12:00+00:00",
         "11429",
         "2",
         "11429,11430",
         "2012-03-06 07:31:00+00:00",
         "2012-03-06 07:39:00+00:00",
         "2012-03-06 07:48:00+00:00",
         "C",
         "6.799999999999999e-06",
         "2"
        ],
        [
         "3",
         "1449",
         "2012-03-06 07:48:00+00:00",
         "5.325347e+22",
         "51.939",
         "89.239",
         "105.911",
         "60.161",
         "0.01359814",
         "80792130000000.0",
         "-0.04725789",
         "-0.02950756",
         "5051.472",
         "2014.186",
         "75830390000000.0",
         "16893.83",
         "1.53151e+24",
         "46.582",
         "47.573",
         "337.568481",
         "-7.249815",
         "2121",
         "0",
         "0",
         "0",
         " ",
         " ",
         "0",
         "0",
         "151100.0",
         "13081.650391",
         "8801.200195",
         "31515.0",
         "2728.446045",
         "1877.578003",
         "12.467403",
         "-46.272591",
         "23.708258",
         "-15.592887",
         "17.602701",
         "-35.269165",
         "17.73255",
         "-33.541882",
         "17.504002",
         "-36.582088",
         "2012-03-02 16:24:00+00:00",
         "2012-03-16 00:12:00+00:00",
         "11429",
         "2",
         "11429,11430",
         "2012-03-06 07:48:00+00:00",
         "2012-03-06 07:55:00+00:00",
         "2012-03-06 08:00:00+00:00",
         "M",
         "1.4e-05",
         "2"
        ],
        [
         "4",
         "3688",
         "2014-02-02 16:24:00+00:00",
         "2.396364e+22",
         "51.913",
         "107.564",
         "110.253",
         "67.562",
         "0.2929323",
         "51099510000000.0",
         "-0.02785347",
         "-0.00963291",
         "2235.486",
         "408.551",
         "22115160000000.0",
         "7567.87",
         "4.262804e+23",
         "42.616",
         "40.911",
         "119.144295",
         "-6.119136",
         "2146",
         "0",
         "0",
         "0",
         " ",
         " ",
         "0",
         "0",
         "263513.0",
         "22497.748047",
         "11946.589844",
         "37280.0",
         "3182.826172",
         "1683.143555",
         "2.941247",
         "-19.925676",
         "22.384624",
         "4.52301",
         "10.137406",
         "-8.110095",
         "10.776254",
         "-11.919276",
         "9.442173",
         "-3.964708",
         "2014-01-27 08:00:00+00:00",
         "2014-02-10 08:48:00+00:00",
         "11968",
         "1",
         "11968",
         "2014-02-02 16:06:00+00:00",
         "2014-02-02 16:18:00+00:00",
         "2014-02-02 16:24:00+00:00",
         "C",
         "6e-06",
         "2"
        ],
        [
         "5",
         "3688",
         "2014-02-02 16:24:00+00:00",
         "2.396364e+22",
         "51.913",
         "107.564",
         "110.253",
         "67.562",
         "0.2929323",
         "51099510000000.0",
         "-0.02785347",
         "-0.00963291",
         "2235.486",
         "408.551",
         "22115160000000.0",
         "7567.87",
         "4.262804e+23",
         "42.616",
         "40.911",
         "119.144295",
         "-6.119136",
         "2146",
         "0",
         "0",
         "0",
         " ",
         " ",
         "0",
         "0",
         "263513.0",
         "22497.748047",
         "11946.589844",
         "37280.0",
         "3182.826172",
         "1683.143555",
         "2.941247",
         "-19.925676",
         "22.384624",
         "4.52301",
         "10.137406",
         "-8.110095",
         "10.776254",
         "-11.919276",
         "9.442173",
         "-3.964708",
         "2014-01-27 08:00:00+00:00",
         "2014-02-10 08:48:00+00:00",
         "11968",
         "1",
         "11968",
         "2014-02-02 16:24:00+00:00",
         "2014-02-02 16:29:00+00:00",
         "2014-02-02 16:36:00+00:00",
         "M",
         "1.5000000000000002e-05",
         "2"
        ],
        [
         "6",
         "7670",
         "2021-07-17 16:12:00+00:00",
         "2.437989e+21",
         "58.979",
         "123.708",
         "126.734",
         "79.19",
         "0.79502624",
         "6774378000000.0",
         "-0.03646807",
         "-0.01301925",
         "313.828",
         "63.234",
         "2097769000000.0",
         "5261.796",
         "3.394722e+22",
         "45.828",
         "43.639",
         "190.683762",
         "4.571968",
         "2246",
         "0",
         "0",
         "0",
         " ",
         " ",
         "0",
         "0",
         "23384.0",
         "2120.300293",
         "1133.225464",
         "2173.0",
         "197.032684",
         "105.247528",
         "-17.822193",
         "-4.3162",
         "-14.194551",
         "3.905107",
         "-15.948128",
         "-0.02789",
         "-16.072773",
         "-1.341972",
         "-15.830602",
         "1.21112",
         "2021-07-17 04:36:00+00:00",
         "2021-07-23 15:36:00+00:00",
         "12845",
         "1",
         "12845",
         "2021-07-17 16:03:00+00:00",
         "2021-07-17 16:08:00+00:00",
         "2021-07-17 16:12:00+00:00",
         "B",
         "1.2e-07",
         "2"
        ],
        [
         "7",
         "7670",
         "2021-07-17 16:12:00+00:00",
         "2.437989e+21",
         "58.979",
         "123.708",
         "126.734",
         "79.19",
         "0.79502624",
         "6774378000000.0",
         "-0.03646807",
         "-0.01301925",
         "313.828",
         "63.234",
         "2097769000000.0",
         "5261.796",
         "3.394722e+22",
         "45.828",
         "43.639",
         "190.683762",
         "4.571968",
         "2246",
         "0",
         "0",
         "0",
         " ",
         " ",
         "0",
         "0",
         "23384.0",
         "2120.300293",
         "1133.225464",
         "2173.0",
         "197.032684",
         "105.247528",
         "-17.822193",
         "-4.3162",
         "-14.194551",
         "3.905107",
         "-15.948128",
         "-0.02789",
         "-16.072773",
         "-1.341972",
         "-15.830602",
         "1.21112",
         "2021-07-17 04:36:00+00:00",
         "2021-07-23 15:36:00+00:00",
         "12845",
         "1",
         "12845",
         "2021-07-17 16:12:00+00:00",
         "2021-07-17 16:16:00+00:00",
         "2021-07-17 16:20:00+00:00",
         "B",
         "4.2999999999999996e-07",
         "2"
        ]
       ],
       "shape": {
        "columns": 55,
        "rows": 8
       }
      },
      "text/html": [
       "<div>\n",
       "<style scoped>\n",
       "    .dataframe tbody tr th:only-of-type {\n",
       "        vertical-align: middle;\n",
       "    }\n",
       "\n",
       "    .dataframe tbody tr th {\n",
       "        vertical-align: top;\n",
       "    }\n",
       "\n",
       "    .dataframe thead th {\n",
       "        text-align: right;\n",
       "    }\n",
       "</style>\n",
       "<table border=\"1\" class=\"dataframe\">\n",
       "  <thead>\n",
       "    <tr style=\"text-align: right;\">\n",
       "      <th></th>\n",
       "      <th>HARPNUM</th>\n",
       "      <th>T_REC</th>\n",
       "      <th>USFLUX</th>\n",
       "      <th>MEANGAM</th>\n",
       "      <th>MEANGBT</th>\n",
       "      <th>MEANGBZ</th>\n",
       "      <th>MEANGBH</th>\n",
       "      <th>MEANJZD</th>\n",
       "      <th>TOTUSJZ</th>\n",
       "      <th>MEANALP</th>\n",
       "      <th>...</th>\n",
       "      <th>T_LAST1</th>\n",
       "      <th>NOAA_AR</th>\n",
       "      <th>NOAA_NUM</th>\n",
       "      <th>NOAA_ARS</th>\n",
       "      <th>start time</th>\n",
       "      <th>peak time</th>\n",
       "      <th>end time</th>\n",
       "      <th>flare_class</th>\n",
       "      <th>peak_intensity</th>\n",
       "      <th>num_recs</th>\n",
       "    </tr>\n",
       "  </thead>\n",
       "  <tbody>\n",
       "    <tr>\n",
       "      <th>0</th>\n",
       "      <td>46</td>\n",
       "      <td>2010-06-09 13:36:00+00:00</td>\n",
       "      <td>1.233112e+22</td>\n",
       "      <td>41.343</td>\n",
       "      <td>98.798</td>\n",
       "      <td>104.587</td>\n",
       "      <td>55.630</td>\n",
       "      <td>-0.181483</td>\n",
       "      <td>1.452588e+13</td>\n",
       "      <td>-0.004718</td>\n",
       "      <td>...</td>\n",
       "      <td>2010-06-12 03:00:00+00:00</td>\n",
       "      <td>11078</td>\n",
       "      <td>1</td>\n",
       "      <td>11078</td>\n",
       "      <td>2010-06-09 13:25:00+00:00</td>\n",
       "      <td>2010-06-09 13:32:00+00:00</td>\n",
       "      <td>2010-06-09 13:36:00+00:00</td>\n",
       "      <td>B</td>\n",
       "      <td>1.200000e-07</td>\n",
       "      <td>2</td>\n",
       "    </tr>\n",
       "    <tr>\n",
       "      <th>1</th>\n",
       "      <td>46</td>\n",
       "      <td>2010-06-09 13:36:00+00:00</td>\n",
       "      <td>1.233112e+22</td>\n",
       "      <td>41.343</td>\n",
       "      <td>98.798</td>\n",
       "      <td>104.587</td>\n",
       "      <td>55.630</td>\n",
       "      <td>-0.181483</td>\n",
       "      <td>1.452588e+13</td>\n",
       "      <td>-0.004718</td>\n",
       "      <td>...</td>\n",
       "      <td>2010-06-12 03:00:00+00:00</td>\n",
       "      <td>11078</td>\n",
       "      <td>1</td>\n",
       "      <td>11078</td>\n",
       "      <td>2010-06-09 13:35:00+00:00</td>\n",
       "      <td>2010-06-09 13:43:00+00:00</td>\n",
       "      <td>2010-06-09 13:51:00+00:00</td>\n",
       "      <td>B</td>\n",
       "      <td>2.800000e-07</td>\n",
       "      <td>2</td>\n",
       "    </tr>\n",
       "    <tr>\n",
       "      <th>2</th>\n",
       "      <td>1449</td>\n",
       "      <td>2012-03-06 07:48:00+00:00</td>\n",
       "      <td>5.325347e+22</td>\n",
       "      <td>51.939</td>\n",
       "      <td>89.239</td>\n",
       "      <td>105.911</td>\n",
       "      <td>60.161</td>\n",
       "      <td>0.013598</td>\n",
       "      <td>8.079213e+13</td>\n",
       "      <td>-0.047258</td>\n",
       "      <td>...</td>\n",
       "      <td>2012-03-16 00:12:00+00:00</td>\n",
       "      <td>11429</td>\n",
       "      <td>2</td>\n",
       "      <td>11429,11430</td>\n",
       "      <td>2012-03-06 07:31:00+00:00</td>\n",
       "      <td>2012-03-06 07:39:00+00:00</td>\n",
       "      <td>2012-03-06 07:48:00+00:00</td>\n",
       "      <td>C</td>\n",
       "      <td>6.800000e-06</td>\n",
       "      <td>2</td>\n",
       "    </tr>\n",
       "    <tr>\n",
       "      <th>3</th>\n",
       "      <td>1449</td>\n",
       "      <td>2012-03-06 07:48:00+00:00</td>\n",
       "      <td>5.325347e+22</td>\n",
       "      <td>51.939</td>\n",
       "      <td>89.239</td>\n",
       "      <td>105.911</td>\n",
       "      <td>60.161</td>\n",
       "      <td>0.013598</td>\n",
       "      <td>8.079213e+13</td>\n",
       "      <td>-0.047258</td>\n",
       "      <td>...</td>\n",
       "      <td>2012-03-16 00:12:00+00:00</td>\n",
       "      <td>11429</td>\n",
       "      <td>2</td>\n",
       "      <td>11429,11430</td>\n",
       "      <td>2012-03-06 07:48:00+00:00</td>\n",
       "      <td>2012-03-06 07:55:00+00:00</td>\n",
       "      <td>2012-03-06 08:00:00+00:00</td>\n",
       "      <td>M</td>\n",
       "      <td>1.400000e-05</td>\n",
       "      <td>2</td>\n",
       "    </tr>\n",
       "    <tr>\n",
       "      <th>4</th>\n",
       "      <td>3688</td>\n",
       "      <td>2014-02-02 16:24:00+00:00</td>\n",
       "      <td>2.396364e+22</td>\n",
       "      <td>51.913</td>\n",
       "      <td>107.564</td>\n",
       "      <td>110.253</td>\n",
       "      <td>67.562</td>\n",
       "      <td>0.292932</td>\n",
       "      <td>5.109951e+13</td>\n",
       "      <td>-0.027853</td>\n",
       "      <td>...</td>\n",
       "      <td>2014-02-10 08:48:00+00:00</td>\n",
       "      <td>11968</td>\n",
       "      <td>1</td>\n",
       "      <td>11968</td>\n",
       "      <td>2014-02-02 16:06:00+00:00</td>\n",
       "      <td>2014-02-02 16:18:00+00:00</td>\n",
       "      <td>2014-02-02 16:24:00+00:00</td>\n",
       "      <td>C</td>\n",
       "      <td>6.000000e-06</td>\n",
       "      <td>2</td>\n",
       "    </tr>\n",
       "    <tr>\n",
       "      <th>5</th>\n",
       "      <td>3688</td>\n",
       "      <td>2014-02-02 16:24:00+00:00</td>\n",
       "      <td>2.396364e+22</td>\n",
       "      <td>51.913</td>\n",
       "      <td>107.564</td>\n",
       "      <td>110.253</td>\n",
       "      <td>67.562</td>\n",
       "      <td>0.292932</td>\n",
       "      <td>5.109951e+13</td>\n",
       "      <td>-0.027853</td>\n",
       "      <td>...</td>\n",
       "      <td>2014-02-10 08:48:00+00:00</td>\n",
       "      <td>11968</td>\n",
       "      <td>1</td>\n",
       "      <td>11968</td>\n",
       "      <td>2014-02-02 16:24:00+00:00</td>\n",
       "      <td>2014-02-02 16:29:00+00:00</td>\n",
       "      <td>2014-02-02 16:36:00+00:00</td>\n",
       "      <td>M</td>\n",
       "      <td>1.500000e-05</td>\n",
       "      <td>2</td>\n",
       "    </tr>\n",
       "    <tr>\n",
       "      <th>6</th>\n",
       "      <td>7670</td>\n",
       "      <td>2021-07-17 16:12:00+00:00</td>\n",
       "      <td>2.437989e+21</td>\n",
       "      <td>58.979</td>\n",
       "      <td>123.708</td>\n",
       "      <td>126.734</td>\n",
       "      <td>79.190</td>\n",
       "      <td>0.795026</td>\n",
       "      <td>6.774378e+12</td>\n",
       "      <td>-0.036468</td>\n",
       "      <td>...</td>\n",
       "      <td>2021-07-23 15:36:00+00:00</td>\n",
       "      <td>12845</td>\n",
       "      <td>1</td>\n",
       "      <td>12845</td>\n",
       "      <td>2021-07-17 16:03:00+00:00</td>\n",
       "      <td>2021-07-17 16:08:00+00:00</td>\n",
       "      <td>2021-07-17 16:12:00+00:00</td>\n",
       "      <td>B</td>\n",
       "      <td>1.200000e-07</td>\n",
       "      <td>2</td>\n",
       "    </tr>\n",
       "    <tr>\n",
       "      <th>7</th>\n",
       "      <td>7670</td>\n",
       "      <td>2021-07-17 16:12:00+00:00</td>\n",
       "      <td>2.437989e+21</td>\n",
       "      <td>58.979</td>\n",
       "      <td>123.708</td>\n",
       "      <td>126.734</td>\n",
       "      <td>79.190</td>\n",
       "      <td>0.795026</td>\n",
       "      <td>6.774378e+12</td>\n",
       "      <td>-0.036468</td>\n",
       "      <td>...</td>\n",
       "      <td>2021-07-23 15:36:00+00:00</td>\n",
       "      <td>12845</td>\n",
       "      <td>1</td>\n",
       "      <td>12845</td>\n",
       "      <td>2021-07-17 16:12:00+00:00</td>\n",
       "      <td>2021-07-17 16:16:00+00:00</td>\n",
       "      <td>2021-07-17 16:20:00+00:00</td>\n",
       "      <td>B</td>\n",
       "      <td>4.300000e-07</td>\n",
       "      <td>2</td>\n",
       "    </tr>\n",
       "  </tbody>\n",
       "</table>\n",
       "<p>8 rows × 55 columns</p>\n",
       "</div>"
      ],
      "text/plain": [
       "   HARPNUM                     T_REC        USFLUX  MEANGAM  MEANGBT  MEANGBZ  \\\n",
       "0       46 2010-06-09 13:36:00+00:00  1.233112e+22   41.343   98.798  104.587   \n",
       "1       46 2010-06-09 13:36:00+00:00  1.233112e+22   41.343   98.798  104.587   \n",
       "2     1449 2012-03-06 07:48:00+00:00  5.325347e+22   51.939   89.239  105.911   \n",
       "3     1449 2012-03-06 07:48:00+00:00  5.325347e+22   51.939   89.239  105.911   \n",
       "4     3688 2014-02-02 16:24:00+00:00  2.396364e+22   51.913  107.564  110.253   \n",
       "5     3688 2014-02-02 16:24:00+00:00  2.396364e+22   51.913  107.564  110.253   \n",
       "6     7670 2021-07-17 16:12:00+00:00  2.437989e+21   58.979  123.708  126.734   \n",
       "7     7670 2021-07-17 16:12:00+00:00  2.437989e+21   58.979  123.708  126.734   \n",
       "\n",
       "   MEANGBH   MEANJZD       TOTUSJZ   MEANALP  ...                   T_LAST1  \\\n",
       "0   55.630 -0.181483  1.452588e+13 -0.004718  ... 2010-06-12 03:00:00+00:00   \n",
       "1   55.630 -0.181483  1.452588e+13 -0.004718  ... 2010-06-12 03:00:00+00:00   \n",
       "2   60.161  0.013598  8.079213e+13 -0.047258  ... 2012-03-16 00:12:00+00:00   \n",
       "3   60.161  0.013598  8.079213e+13 -0.047258  ... 2012-03-16 00:12:00+00:00   \n",
       "4   67.562  0.292932  5.109951e+13 -0.027853  ... 2014-02-10 08:48:00+00:00   \n",
       "5   67.562  0.292932  5.109951e+13 -0.027853  ... 2014-02-10 08:48:00+00:00   \n",
       "6   79.190  0.795026  6.774378e+12 -0.036468  ... 2021-07-23 15:36:00+00:00   \n",
       "7   79.190  0.795026  6.774378e+12 -0.036468  ... 2021-07-23 15:36:00+00:00   \n",
       "\n",
       "   NOAA_AR  NOAA_NUM     NOAA_ARS                start time  \\\n",
       "0    11078         1        11078 2010-06-09 13:25:00+00:00   \n",
       "1    11078         1        11078 2010-06-09 13:35:00+00:00   \n",
       "2    11429         2  11429,11430 2012-03-06 07:31:00+00:00   \n",
       "3    11429         2  11429,11430 2012-03-06 07:48:00+00:00   \n",
       "4    11968         1        11968 2014-02-02 16:06:00+00:00   \n",
       "5    11968         1        11968 2014-02-02 16:24:00+00:00   \n",
       "6    12845         1        12845 2021-07-17 16:03:00+00:00   \n",
       "7    12845         1        12845 2021-07-17 16:12:00+00:00   \n",
       "\n",
       "                  peak time                  end time  flare_class  \\\n",
       "0 2010-06-09 13:32:00+00:00 2010-06-09 13:36:00+00:00            B   \n",
       "1 2010-06-09 13:43:00+00:00 2010-06-09 13:51:00+00:00            B   \n",
       "2 2012-03-06 07:39:00+00:00 2012-03-06 07:48:00+00:00            C   \n",
       "3 2012-03-06 07:55:00+00:00 2012-03-06 08:00:00+00:00            M   \n",
       "4 2014-02-02 16:18:00+00:00 2014-02-02 16:24:00+00:00            C   \n",
       "5 2014-02-02 16:29:00+00:00 2014-02-02 16:36:00+00:00            M   \n",
       "6 2021-07-17 16:08:00+00:00 2021-07-17 16:12:00+00:00            B   \n",
       "7 2021-07-17 16:16:00+00:00 2021-07-17 16:20:00+00:00            B   \n",
       "\n",
       "   peak_intensity  num_recs  \n",
       "0    1.200000e-07         2  \n",
       "1    2.800000e-07         2  \n",
       "2    6.800000e-06         2  \n",
       "3    1.400000e-05         2  \n",
       "4    6.000000e-06         2  \n",
       "5    1.500000e-05         2  \n",
       "6    1.200000e-07         2  \n",
       "7    4.300000e-07         2  \n",
       "\n",
       "[8 rows x 55 columns]"
      ]
     },
     "execution_count": 13,
     "metadata": {},
     "output_type": "execute_result"
    }
   ],
   "source": [
    "recs_w_mult_flares = harp_flare_data.groupby([\"HARPNUM\", \"T_REC\"]).size().reset_index(name=\"num_recs\")\n",
    "recs_w_mult_flares = recs_w_mult_flares[recs_w_mult_flares[\"num_recs\"] > 1]\n",
    "pd.merge(harp_flare_data, recs_w_mult_flares, how=\"inner\", on=[\"HARPNUM\", \"T_REC\"])"
   ]
  }
 ],
 "metadata": {
  "kernelspec": {
   "display_name": "Python 3",
   "language": "python",
   "name": "python3"
  },
  "language_info": {
   "codemirror_mode": {
    "name": "ipython",
    "version": 3
   },
   "file_extension": ".py",
   "mimetype": "text/x-python",
   "name": "python",
   "nbconvert_exporter": "python",
   "pygments_lexer": "ipython3",
   "version": "3.9.20"
  }
 },
 "nbformat": 4,
 "nbformat_minor": 2
}
