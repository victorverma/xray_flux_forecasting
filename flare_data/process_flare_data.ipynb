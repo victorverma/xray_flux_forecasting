{
 "cells": [
  {
   "cell_type": "code",
   "execution_count": 1,
   "metadata": {},
   "outputs": [],
   "source": [
    "import pandas as pd\n",
    "from plotnine import *"
   ]
  },
  {
   "cell_type": "markdown",
   "metadata": {},
   "source": [
    "In this notebook, we examine the CSV file loaded below. It contains science-quality flare data and was copied from the Dropbox directory `ML-SEP/Dataset/Science-Quality Data`; Ke Hu recommended using it. She said that the flare classes in it weren't computed using the SWPC scaling factor. We make certain useful changes to the dataset and then save it as a data frame."
   ]
  },
  {
   "cell_type": "markdown",
   "metadata": {},
   "source": [
    "Judging by the output below,\n",
    "\n",
    "- the times need to be turned into `datetime`s\n",
    "- the flare class and peak intensity need to be extracted from `fl_class`\n",
    "- the NOAA active region numbers need to be made integers"
   ]
  },
  {
   "cell_type": "code",
   "execution_count": 2,
   "metadata": {},
   "outputs": [
    {
     "name": "stdout",
     "output_type": "stream",
     "text": [
      "(31281, 16)\n",
      "start time        object\n",
      "end time          object\n",
      "peak time         object\n",
      "fl_class          object\n",
      "noaa_ar_5min     float64\n",
      "noaa_ar_5s       float64\n",
      "hg1              float64\n",
      "hg2              float64\n",
      "car1             float64\n",
      "car2             float64\n",
      "rtheta1          float64\n",
      "rtheta2          float64\n",
      "xy1              float64\n",
      "xy2              float64\n",
      "solar_p_angle    float64\n",
      "solar_radius     float64\n",
      "dtype: object\n"
     ]
    },
    {
     "data": {
      "text/html": [
       "<div>\n",
       "<style scoped>\n",
       "    .dataframe tbody tr th:only-of-type {\n",
       "        vertical-align: middle;\n",
       "    }\n",
       "\n",
       "    .dataframe tbody tr th {\n",
       "        vertical-align: top;\n",
       "    }\n",
       "\n",
       "    .dataframe thead th {\n",
       "        text-align: right;\n",
       "    }\n",
       "</style>\n",
       "<table border=\"1\" class=\"dataframe\">\n",
       "  <thead>\n",
       "    <tr style=\"text-align: right;\">\n",
       "      <th></th>\n",
       "      <th>start time</th>\n",
       "      <th>end time</th>\n",
       "      <th>peak time</th>\n",
       "      <th>fl_class</th>\n",
       "      <th>noaa_ar_5min</th>\n",
       "      <th>noaa_ar_5s</th>\n",
       "      <th>hg1</th>\n",
       "      <th>hg2</th>\n",
       "      <th>car1</th>\n",
       "      <th>car2</th>\n",
       "      <th>rtheta1</th>\n",
       "      <th>rtheta2</th>\n",
       "      <th>xy1</th>\n",
       "      <th>xy2</th>\n",
       "      <th>solar_p_angle</th>\n",
       "      <th>solar_radius</th>\n",
       "    </tr>\n",
       "  </thead>\n",
       "  <tbody>\n",
       "    <tr>\n",
       "      <th>0</th>\n",
       "      <td>2010/1/1 6:02</td>\n",
       "      <td>2010/1/1 6:13</td>\n",
       "      <td>2010/1/1 6:09</td>\n",
       "      <td>B1.1</td>\n",
       "      <td>NaN</td>\n",
       "      <td>NaN</td>\n",
       "      <td>NaN</td>\n",
       "      <td>NaN</td>\n",
       "      <td>NaN</td>\n",
       "      <td>NaN</td>\n",
       "      <td>NaN</td>\n",
       "      <td>NaN</td>\n",
       "      <td>NaN</td>\n",
       "      <td>NaN</td>\n",
       "      <td>NaN</td>\n",
       "      <td>NaN</td>\n",
       "    </tr>\n",
       "    <tr>\n",
       "      <th>1</th>\n",
       "      <td>2010/1/1 12:00</td>\n",
       "      <td>2010/1/1 12:19</td>\n",
       "      <td>2010/1/1 12:09</td>\n",
       "      <td>B2.7</td>\n",
       "      <td>0.0</td>\n",
       "      <td>0.0</td>\n",
       "      <td>NaN</td>\n",
       "      <td>NaN</td>\n",
       "      <td>NaN</td>\n",
       "      <td>NaN</td>\n",
       "      <td>NaN</td>\n",
       "      <td>NaN</td>\n",
       "      <td>NaN</td>\n",
       "      <td>NaN</td>\n",
       "      <td>NaN</td>\n",
       "      <td>NaN</td>\n",
       "    </tr>\n",
       "    <tr>\n",
       "      <th>2</th>\n",
       "      <td>2010/1/1 12:27</td>\n",
       "      <td>2010/1/1 13:09</td>\n",
       "      <td>2010/1/1 12:43</td>\n",
       "      <td>B3.3</td>\n",
       "      <td>0.0</td>\n",
       "      <td>0.0</td>\n",
       "      <td>NaN</td>\n",
       "      <td>NaN</td>\n",
       "      <td>NaN</td>\n",
       "      <td>NaN</td>\n",
       "      <td>NaN</td>\n",
       "      <td>NaN</td>\n",
       "      <td>NaN</td>\n",
       "      <td>NaN</td>\n",
       "      <td>NaN</td>\n",
       "      <td>NaN</td>\n",
       "    </tr>\n",
       "    <tr>\n",
       "      <th>3</th>\n",
       "      <td>2010/1/1 15:58</td>\n",
       "      <td>2010/1/1 16:31</td>\n",
       "      <td>2010/1/1 16:20</td>\n",
       "      <td>B2.5</td>\n",
       "      <td>NaN</td>\n",
       "      <td>NaN</td>\n",
       "      <td>NaN</td>\n",
       "      <td>NaN</td>\n",
       "      <td>NaN</td>\n",
       "      <td>NaN</td>\n",
       "      <td>NaN</td>\n",
       "      <td>NaN</td>\n",
       "      <td>NaN</td>\n",
       "      <td>NaN</td>\n",
       "      <td>NaN</td>\n",
       "      <td>NaN</td>\n",
       "    </tr>\n",
       "    <tr>\n",
       "      <th>4</th>\n",
       "      <td>2010/1/1 18:20</td>\n",
       "      <td>2010/1/1 18:31</td>\n",
       "      <td>2010/1/1 18:27</td>\n",
       "      <td>B1.3</td>\n",
       "      <td>NaN</td>\n",
       "      <td>NaN</td>\n",
       "      <td>NaN</td>\n",
       "      <td>NaN</td>\n",
       "      <td>NaN</td>\n",
       "      <td>NaN</td>\n",
       "      <td>NaN</td>\n",
       "      <td>NaN</td>\n",
       "      <td>NaN</td>\n",
       "      <td>NaN</td>\n",
       "      <td>NaN</td>\n",
       "      <td>NaN</td>\n",
       "    </tr>\n",
       "  </tbody>\n",
       "</table>\n",
       "</div>"
      ],
      "text/plain": [
       "       start time        end time       peak time fl_class  noaa_ar_5min  \\\n",
       "0   2010/1/1 6:02   2010/1/1 6:13   2010/1/1 6:09     B1.1           NaN   \n",
       "1  2010/1/1 12:00  2010/1/1 12:19  2010/1/1 12:09     B2.7           0.0   \n",
       "2  2010/1/1 12:27  2010/1/1 13:09  2010/1/1 12:43     B3.3           0.0   \n",
       "3  2010/1/1 15:58  2010/1/1 16:31  2010/1/1 16:20     B2.5           NaN   \n",
       "4  2010/1/1 18:20  2010/1/1 18:31  2010/1/1 18:27     B1.3           NaN   \n",
       "\n",
       "   noaa_ar_5s  hg1  hg2  car1  car2  rtheta1  rtheta2  xy1  xy2  \\\n",
       "0         NaN  NaN  NaN   NaN   NaN      NaN      NaN  NaN  NaN   \n",
       "1         0.0  NaN  NaN   NaN   NaN      NaN      NaN  NaN  NaN   \n",
       "2         0.0  NaN  NaN   NaN   NaN      NaN      NaN  NaN  NaN   \n",
       "3         NaN  NaN  NaN   NaN   NaN      NaN      NaN  NaN  NaN   \n",
       "4         NaN  NaN  NaN   NaN   NaN      NaN      NaN  NaN  NaN   \n",
       "\n",
       "   solar_p_angle  solar_radius  \n",
       "0            NaN           NaN  \n",
       "1            NaN           NaN  \n",
       "2            NaN           NaN  \n",
       "3            NaN           NaN  \n",
       "4            NaN           NaN  "
      ]
     },
     "execution_count": 2,
     "metadata": {},
     "output_type": "execute_result"
    }
   ],
   "source": [
    "flare_data = pd.read_csv(\"sci_20100101_20240721.csv\")\n",
    "print(flare_data.shape)\n",
    "print(flare_data.dtypes)\n",
    "flare_data.head()"
   ]
  },
  {
   "cell_type": "markdown",
   "metadata": {},
   "source": [
    "## Extract Flare Classes and Peak Intensities"
   ]
  },
  {
   "cell_type": "markdown",
   "metadata": {},
   "source": [
    "A flare classification should be a string like `\"C2.3\"`; the multiplier, e.g. `\"2.3\"`, should be greater than or equal to one."
   ]
  },
  {
   "cell_type": "code",
   "execution_count": 3,
   "metadata": {},
   "outputs": [],
   "source": [
    "fl_class_pattern = r\"^[ABCMX][1-9][0-9]*\\.[0-9]+$\""
   ]
  },
  {
   "cell_type": "markdown",
   "metadata": {},
   "source": [
    "Not all `fl_class` strings match the pattern; some seem to have multipliers that are less than one. Ke said that in the original data, there are multipliers that are less than one."
   ]
  },
  {
   "cell_type": "code",
   "execution_count": 4,
   "metadata": {},
   "outputs": [
    {
     "data": {
      "text/plain": [
       "333      C0.9\n",
       "3012     C0.9\n",
       "4203     M0.9\n",
       "4303     C0.9\n",
       "4911     M0.9\n",
       "4917     C0.9\n",
       "5509     C0.9\n",
       "5775     C0.9\n",
       "6415     C0.9\n",
       "6863     M0.9\n",
       "7434     C0.9\n",
       "7482     C0.9\n",
       "7560     C0.9\n",
       "7655     C0.9\n",
       "7799     C0.9\n",
       "7981     M0.9\n",
       "7984     C0.9\n",
       "8178     C0.9\n",
       "9117     C0.9\n",
       "9796     C0.9\n",
       "9933     C0.9\n",
       "9958     C0.9\n",
       "10049    C0.9\n",
       "10069    C0.9\n",
       "10361    C0.9\n",
       "10485    C0.9\n",
       "12546    C0.9\n",
       "13216    C0.9\n",
       "13355    C0.9\n",
       "13701    M0.9\n",
       "14018    X0.9\n",
       "14079    M0.9\n",
       "14968    C0.9\n",
       "15093    C0.9\n",
       "15192    C0.9\n",
       "15306    C0.9\n",
       "16181    C0.9\n",
       "16270    C0.9\n",
       "16373    C0.9\n",
       "16655    C0.9\n",
       "17217    C0.9\n",
       "17708    C0.9\n",
       "17843    C0.9\n",
       "18254    C0.9\n",
       "18331    C0.9\n",
       "19726    C0.9\n",
       "20692    B0.9\n",
       "22176    C0.9\n",
       "22556    C0.9\n",
       "23575    C0.9\n",
       "25292    M0.9\n",
       "25877    C0.9\n",
       "26916    C0.9\n",
       "30046    M0.9\n",
       "30139    M0.9\n",
       "Name: fl_class, dtype: object"
      ]
     },
     "execution_count": 4,
     "metadata": {},
     "output_type": "execute_result"
    }
   ],
   "source": [
    "fl_class_matches_pattern = flare_data[\"fl_class\"].str.match(fl_class_pattern)\n",
    "flare_data.loc[~fl_class_matches_pattern, \"fl_class\"]"
   ]
  },
  {
   "cell_type": "markdown",
   "metadata": {},
   "source": [
    "It seems that those strings should match the pattern below."
   ]
  },
  {
   "cell_type": "code",
   "execution_count": 5,
   "metadata": {},
   "outputs": [],
   "source": [
    "fl_class_pattern2 = r\"^[ABCMX]0\\.[0-9]+$\""
   ]
  },
  {
   "cell_type": "markdown",
   "metadata": {},
   "source": [
    "They do match that pattern."
   ]
  },
  {
   "cell_type": "code",
   "execution_count": 6,
   "metadata": {},
   "outputs": [
    {
     "data": {
      "text/plain": [
       "Series([], Name: fl_class, dtype: object)"
      ]
     },
     "execution_count": 6,
     "metadata": {},
     "output_type": "execute_result"
    }
   ],
   "source": [
    "fl_class_matches_pattern2 = flare_data[\"fl_class\"].str.match(fl_class_pattern2)\n",
    "flare_data.loc[~fl_class_matches_pattern & ~fl_class_matches_pattern2, \"fl_class\"]"
   ]
  },
  {
   "cell_type": "markdown",
   "metadata": {},
   "source": [
    "The function below extracts the peak intensity from a `fl_class` string, e.g., given `\"C2.3\"`, `2.3 * 1e-6` is returned."
   ]
  },
  {
   "cell_type": "code",
   "execution_count": 7,
   "metadata": {},
   "outputs": [],
   "source": [
    "def get_peak_intensity(fl_class: str) -> float:\n",
    "    flare_class = fl_class[0]\n",
    "    multiplier = float(fl_class[1:])\n",
    "    powers = {\"A\": 1e-8, \"B\": 1e-7, \"C\": 1e-6, \"M\": 1e-5, \"X\": 1e-4}\n",
    "    return multiplier * powers[flare_class]"
   ]
  },
  {
   "cell_type": "code",
   "execution_count": 8,
   "metadata": {},
   "outputs": [],
   "source": [
    "flare_data.insert(4, \"peak_intensity\", flare_data[\"fl_class\"].map(get_peak_intensity))"
   ]
  },
  {
   "cell_type": "markdown",
   "metadata": {},
   "source": [
    "All extractions succeeded."
   ]
  },
  {
   "cell_type": "code",
   "execution_count": 9,
   "metadata": {},
   "outputs": [
    {
     "data": {
      "text/plain": [
       "Series([], Name: fl_class, dtype: object)"
      ]
     },
     "execution_count": 9,
     "metadata": {},
     "output_type": "execute_result"
    }
   ],
   "source": [
    "flare_data.loc[flare_data[\"peak_intensity\"].isna(), \"fl_class\"]"
   ]
  },
  {
   "cell_type": "markdown",
   "metadata": {},
   "source": [
    "The range of peak intensities seems reasonable."
   ]
  },
  {
   "cell_type": "code",
   "execution_count": 10,
   "metadata": {},
   "outputs": [
    {
     "data": {
      "text/plain": [
       "(9e-08, 0.00146)"
      ]
     },
     "execution_count": 10,
     "metadata": {},
     "output_type": "execute_result"
    }
   ],
   "source": [
    "(flare_data[\"peak_intensity\"].min(), flare_data[\"peak_intensity\"].max())"
   ]
  },
  {
   "cell_type": "markdown",
   "metadata": {},
   "source": [
    "The flare classes in the flare classifications may be inaccurate, e.g., if the flare classification is `\"C0.9\"`, then the flare class is actually `\"B\"`, not `\"C\"`. Now that we have the peak intensities, we can use the function below to compute the correct flare classes."
   ]
  },
  {
   "cell_type": "code",
   "execution_count": 11,
   "metadata": {},
   "outputs": [],
   "source": [
    "def get_flare_class(peak_intensity: float) -> str:\n",
    "    thresholds = [10 ** i for i in range(-4, -9, -1)]\n",
    "    flare_classes = [\"X\", \"M\", \"C\", \"B\", \"A\"]\n",
    "    for threshold, flare_class in zip(thresholds, flare_classes):\n",
    "        if peak_intensity >= threshold:\n",
    "            return flare_class\n",
    "    return pd.NA"
   ]
  },
  {
   "cell_type": "markdown",
   "metadata": {},
   "source": [
    "We compute the correct flare classes. We also make the `flare_class` column a string column so that if there are `pd.NA`'s in the column, they won't be changed to `None`s when saving the data frame."
   ]
  },
  {
   "cell_type": "code",
   "execution_count": 12,
   "metadata": {},
   "outputs": [],
   "source": [
    "flare_data.insert(4, \"flare_class\", flare_data[\"peak_intensity\"].map(get_flare_class))\n",
    "flare_data[\"flare_class\"] = flare_data[\"flare_class\"].astype(\"string\")"
   ]
  },
  {
   "cell_type": "markdown",
   "metadata": {},
   "source": [
    "The counts below look reasonable."
   ]
  },
  {
   "cell_type": "code",
   "execution_count": 13,
   "metadata": {},
   "outputs": [
    {
     "data": {
      "text/plain": [
       "flare_class\n",
       "C    17826\n",
       "B    11327\n",
       "M     2009\n",
       "X      118\n",
       "A        1\n",
       "Name: count, dtype: Int64"
      ]
     },
     "execution_count": 13,
     "metadata": {},
     "output_type": "execute_result"
    }
   ],
   "source": [
    "flare_data[\"flare_class\"].value_counts(dropna=False)"
   ]
  },
  {
   "cell_type": "markdown",
   "metadata": {},
   "source": [
    "The `fl_class` column is now redundant, so we can drop it."
   ]
  },
  {
   "cell_type": "code",
   "execution_count": 14,
   "metadata": {},
   "outputs": [],
   "source": [
    "flare_data.drop(columns=\"fl_class\", inplace=True)"
   ]
  },
  {
   "cell_type": "markdown",
   "metadata": {},
   "source": [
    "## Make the NOAA Active Region Numbers Integers"
   ]
  },
  {
   "cell_type": "markdown",
   "metadata": {},
   "source": [
    "We make the NOAA active region columns integer columns. We use a nullable data type since there are missing values in these columns."
   ]
  },
  {
   "cell_type": "code",
   "execution_count": 15,
   "metadata": {},
   "outputs": [],
   "source": [
    "flare_data[\"noaa_ar_5min\"] = flare_data[\"noaa_ar_5min\"].astype(\"Int64\")\n",
    "flare_data[\"noaa_ar_5s\"] = flare_data[\"noaa_ar_5s\"].astype(\"Int64\")"
   ]
  },
  {
   "cell_type": "markdown",
   "metadata": {},
   "source": [
    "For most flares, `noaa_ar_5min` is either missing or zero."
   ]
  },
  {
   "cell_type": "code",
   "execution_count": 16,
   "metadata": {},
   "outputs": [
    {
     "data": {
      "text/plain": [
       "noaa_ar_5min\n",
       "<NA>     9669\n",
       "0        3447\n",
       "13615     144\n",
       "12297     123\n",
       "12403     116\n",
       "         ... \n",
       "13202       1\n",
       "12352       1\n",
       "11608       1\n",
       "11159       1\n",
       "11599       1\n",
       "Name: count, Length: 1708, dtype: Int64"
      ]
     },
     "execution_count": 16,
     "metadata": {},
     "output_type": "execute_result"
    }
   ],
   "source": [
    "flare_data[\"noaa_ar_5min\"].value_counts(dropna=False)"
   ]
  },
  {
   "cell_type": "markdown",
   "metadata": {},
   "source": [
    "The same is true of `noaa_ar_5s`."
   ]
  },
  {
   "cell_type": "code",
   "execution_count": 17,
   "metadata": {},
   "outputs": [
    {
     "data": {
      "text/plain": [
       "noaa_ar_5s\n",
       "<NA>     10667\n",
       "0         3244\n",
       "13615      144\n",
       "12297      117\n",
       "12403      112\n",
       "         ...  \n",
       "12477        1\n",
       "12467        1\n",
       "12462        1\n",
       "12464        1\n",
       "12446        1\n",
       "Name: count, Length: 1695, dtype: Int64"
      ]
     },
     "execution_count": 17,
     "metadata": {},
     "output_type": "execute_result"
    }
   ],
   "source": [
    "flare_data[\"noaa_ar_5s\"].value_counts(dropna=False)"
   ]
  },
  {
   "cell_type": "markdown",
   "metadata": {},
   "source": [
    "## Turn Times into `datetime`s"
   ]
  },
  {
   "cell_type": "markdown",
   "metadata": {},
   "source": [
    "The times appear to have the format below."
   ]
  },
  {
   "cell_type": "code",
   "execution_count": 18,
   "metadata": {},
   "outputs": [],
   "source": [
    "time_pattern = r\"^(19|20)[0-9]{2}/[0-9]+/[0-9]+ [0-9]+:[0-9]+$\""
   ]
  },
  {
   "cell_type": "markdown",
   "metadata": {},
   "source": [
    "All the `start time`s have that format."
   ]
  },
  {
   "cell_type": "code",
   "execution_count": 19,
   "metadata": {},
   "outputs": [
    {
     "data": {
      "text/plain": [
       "Series([], Name: start time, dtype: object)"
      ]
     },
     "execution_count": 19,
     "metadata": {},
     "output_type": "execute_result"
    }
   ],
   "source": [
    "start_time_matches_pattern = ~flare_data[\"start time\"].isna() & flare_data[\"start time\"].str.match(time_pattern)\n",
    "flare_data.loc[~start_time_matches_pattern, \"start time\"]"
   ]
  },
  {
   "cell_type": "markdown",
   "metadata": {},
   "source": [
    "We turn the `start time`s into `datetime`s."
   ]
  },
  {
   "cell_type": "code",
   "execution_count": 20,
   "metadata": {},
   "outputs": [],
   "source": [
    "flare_data[\"start time\"] = pd.to_datetime(flare_data[\"start time\"], errors=\"coerce\", format=\"%Y/%m/%d %H:%M\", utc=True)"
   ]
  },
  {
   "cell_type": "markdown",
   "metadata": {},
   "source": [
    "All `start time`s were successfully converted."
   ]
  },
  {
   "cell_type": "code",
   "execution_count": 21,
   "metadata": {},
   "outputs": [
    {
     "data": {
      "text/plain": [
       "Series([], Name: start time, dtype: datetime64[ns, UTC])"
      ]
     },
     "execution_count": 21,
     "metadata": {},
     "output_type": "execute_result"
    }
   ],
   "source": [
    "flare_data.loc[flare_data[\"start time\"].isna(), \"start time\"]"
   ]
  },
  {
   "cell_type": "markdown",
   "metadata": {},
   "source": [
    "Some `end time`s don't have the format above."
   ]
  },
  {
   "cell_type": "code",
   "execution_count": 22,
   "metadata": {},
   "outputs": [
    {
     "data": {
      "text/plain": [
       "23       NaN\n",
       "31       NaN\n",
       "32       NaN\n",
       "40       NaN\n",
       "50       NaN\n",
       "        ... \n",
       "31254    NaN\n",
       "31258    NaN\n",
       "31269    NaN\n",
       "31274    NaN\n",
       "31277    NaN\n",
       "Name: end time, Length: 3987, dtype: object"
      ]
     },
     "execution_count": 22,
     "metadata": {},
     "output_type": "execute_result"
    }
   ],
   "source": [
    "end_time_matches_pattern = ~flare_data[\"end time\"].isna() & flare_data[\"end time\"].str.match(time_pattern)\n",
    "flare_data.loc[~end_time_matches_pattern, \"end time\"]"
   ]
  },
  {
   "cell_type": "markdown",
   "metadata": {},
   "source": [
    "All the `end time`s that don't are missing. Ke said that the `end time`s are missing in the original data."
   ]
  },
  {
   "cell_type": "code",
   "execution_count": 23,
   "metadata": {},
   "outputs": [
    {
     "data": {
      "text/plain": [
       "end time\n",
       "NaN    3987\n",
       "Name: count, dtype: int64"
      ]
     },
     "execution_count": 23,
     "metadata": {},
     "output_type": "execute_result"
    }
   ],
   "source": [
    "flare_data.loc[~end_time_matches_pattern, \"end time\"].value_counts(dropna=False)"
   ]
  },
  {
   "cell_type": "markdown",
   "metadata": {},
   "source": [
    "The percentage of flares without an `end time` decreases with flare strength, but it's still almost 10% for the M class."
   ]
  },
  {
   "cell_type": "code",
   "execution_count": 24,
   "metadata": {},
   "outputs": [
    {
     "data": {
      "text/plain": [
       "flare_class\n",
       "A    0.000000\n",
       "B    0.130308\n",
       "C    0.130764\n",
       "M    0.088104\n",
       "X    0.025424\n",
       "Name: end time, dtype: float64"
      ]
     },
     "execution_count": 24,
     "metadata": {},
     "output_type": "execute_result"
    }
   ],
   "source": [
    "flare_data.groupby(\"flare_class\")[\"end time\"].apply(lambda x: x.isna().mean())"
   ]
  },
  {
   "cell_type": "markdown",
   "metadata": {},
   "source": [
    "The flares without `end time`s aren't spread across flare classes differently than the flares with `end times`."
   ]
  },
  {
   "cell_type": "code",
   "execution_count": 25,
   "metadata": {},
   "outputs": [
    {
     "data": {
      "text/html": [
       "<div>\n",
       "<style scoped>\n",
       "    .dataframe tbody tr th:only-of-type {\n",
       "        vertical-align: middle;\n",
       "    }\n",
       "\n",
       "    .dataframe tbody tr th {\n",
       "        vertical-align: top;\n",
       "    }\n",
       "\n",
       "    .dataframe thead th {\n",
       "        text-align: right;\n",
       "    }\n",
       "</style>\n",
       "<table border=\"1\" class=\"dataframe\">\n",
       "  <thead>\n",
       "    <tr style=\"text-align: right;\">\n",
       "      <th></th>\n",
       "      <th>has_end_time_flare_class_prop</th>\n",
       "      <th>no_end_time_flare_class_prop</th>\n",
       "    </tr>\n",
       "    <tr>\n",
       "      <th>flare_class</th>\n",
       "      <th></th>\n",
       "      <th></th>\n",
       "    </tr>\n",
       "  </thead>\n",
       "  <tbody>\n",
       "    <tr>\n",
       "      <th>A</th>\n",
       "      <td>0.000037</td>\n",
       "      <td>&lt;NA&gt;</td>\n",
       "    </tr>\n",
       "    <tr>\n",
       "      <th>B</th>\n",
       "      <td>0.360922</td>\n",
       "      <td>0.370203</td>\n",
       "    </tr>\n",
       "    <tr>\n",
       "      <th>C</th>\n",
       "      <td>0.567707</td>\n",
       "      <td>0.58465</td>\n",
       "    </tr>\n",
       "    <tr>\n",
       "      <th>M</th>\n",
       "      <td>0.067121</td>\n",
       "      <td>0.044394</td>\n",
       "    </tr>\n",
       "    <tr>\n",
       "      <th>X</th>\n",
       "      <td>0.004213</td>\n",
       "      <td>0.000752</td>\n",
       "    </tr>\n",
       "  </tbody>\n",
       "</table>\n",
       "</div>"
      ],
      "text/plain": [
       "             has_end_time_flare_class_prop  no_end_time_flare_class_prop\n",
       "flare_class                                                             \n",
       "A                                 0.000037                          <NA>\n",
       "B                                 0.360922                      0.370203\n",
       "C                                 0.567707                       0.58465\n",
       "M                                 0.067121                      0.044394\n",
       "X                                 0.004213                      0.000752"
      ]
     },
     "execution_count": 25,
     "metadata": {},
     "output_type": "execute_result"
    }
   ],
   "source": [
    "has_end_time_flare_class_props = flare_data.loc[~flare_data[\"end time\"].isna(), \"flare_class\"].value_counts(normalize=True, dropna=False)\n",
    "no_end_time_flare_class_props = flare_data.loc[flare_data[\"end time\"].isna(), \"flare_class\"].value_counts(normalize=True, dropna=False)\n",
    "pd.DataFrame({\n",
    "    \"has_end_time_flare_class_prop\": has_end_time_flare_class_props, \"no_end_time_flare_class_prop\": no_end_time_flare_class_props\n",
    "})"
   ]
  },
  {
   "cell_type": "markdown",
   "metadata": {},
   "source": [
    "The flares without `end time`s aren't spread across time differently than the flares with `end times`."
   ]
  },
  {
   "cell_type": "code",
   "execution_count": 26,
   "metadata": {},
   "outputs": [
    {
     "data": {
      "text/html": [
       "<div>\n",
       "<style scoped>\n",
       "    .dataframe tbody tr th:only-of-type {\n",
       "        vertical-align: middle;\n",
       "    }\n",
       "\n",
       "    .dataframe tbody tr th {\n",
       "        vertical-align: top;\n",
       "    }\n",
       "\n",
       "    .dataframe thead th {\n",
       "        text-align: right;\n",
       "    }\n",
       "</style>\n",
       "<table border=\"1\" class=\"dataframe\">\n",
       "  <thead>\n",
       "    <tr style=\"text-align: right;\">\n",
       "      <th></th>\n",
       "      <th>has_end_time_start_year_prop</th>\n",
       "      <th>no_end_time_start_year_prop</th>\n",
       "    </tr>\n",
       "    <tr>\n",
       "      <th>start_year</th>\n",
       "      <th></th>\n",
       "      <th></th>\n",
       "    </tr>\n",
       "  </thead>\n",
       "  <tbody>\n",
       "    <tr>\n",
       "      <th>2010</th>\n",
       "      <td>0.066828</td>\n",
       "      <td>0.067218</td>\n",
       "    </tr>\n",
       "    <tr>\n",
       "      <th>2011</th>\n",
       "      <td>0.097567</td>\n",
       "      <td>0.098320</td>\n",
       "    </tr>\n",
       "    <tr>\n",
       "      <th>2012</th>\n",
       "      <td>0.105481</td>\n",
       "      <td>0.098821</td>\n",
       "    </tr>\n",
       "    <tr>\n",
       "      <th>2013</th>\n",
       "      <td>0.096725</td>\n",
       "      <td>0.082518</td>\n",
       "    </tr>\n",
       "    <tr>\n",
       "      <th>2014</th>\n",
       "      <td>0.102770</td>\n",
       "      <td>0.105593</td>\n",
       "    </tr>\n",
       "    <tr>\n",
       "      <th>2015</th>\n",
       "      <td>0.092878</td>\n",
       "      <td>0.093303</td>\n",
       "    </tr>\n",
       "    <tr>\n",
       "      <th>2016</th>\n",
       "      <td>0.071005</td>\n",
       "      <td>0.065964</td>\n",
       "    </tr>\n",
       "    <tr>\n",
       "      <th>2017</th>\n",
       "      <td>0.048619</td>\n",
       "      <td>0.053674</td>\n",
       "    </tr>\n",
       "    <tr>\n",
       "      <th>2018</th>\n",
       "      <td>0.013996</td>\n",
       "      <td>0.014547</td>\n",
       "    </tr>\n",
       "    <tr>\n",
       "      <th>2019</th>\n",
       "      <td>0.008500</td>\n",
       "      <td>0.013544</td>\n",
       "    </tr>\n",
       "    <tr>\n",
       "      <th>2020</th>\n",
       "      <td>0.011651</td>\n",
       "      <td>0.009029</td>\n",
       "    </tr>\n",
       "    <tr>\n",
       "      <th>2021</th>\n",
       "      <td>0.052466</td>\n",
       "      <td>0.046401</td>\n",
       "    </tr>\n",
       "    <tr>\n",
       "      <th>2022</th>\n",
       "      <td>0.076024</td>\n",
       "      <td>0.079258</td>\n",
       "    </tr>\n",
       "    <tr>\n",
       "      <th>2023</th>\n",
       "      <td>0.093464</td>\n",
       "      <td>0.093303</td>\n",
       "    </tr>\n",
       "    <tr>\n",
       "      <th>2024</th>\n",
       "      <td>0.062028</td>\n",
       "      <td>0.078505</td>\n",
       "    </tr>\n",
       "  </tbody>\n",
       "</table>\n",
       "</div>"
      ],
      "text/plain": [
       "            has_end_time_start_year_prop  no_end_time_start_year_prop\n",
       "start_year                                                           \n",
       "2010                            0.066828                     0.067218\n",
       "2011                            0.097567                     0.098320\n",
       "2012                            0.105481                     0.098821\n",
       "2013                            0.096725                     0.082518\n",
       "2014                            0.102770                     0.105593\n",
       "2015                            0.092878                     0.093303\n",
       "2016                            0.071005                     0.065964\n",
       "2017                            0.048619                     0.053674\n",
       "2018                            0.013996                     0.014547\n",
       "2019                            0.008500                     0.013544\n",
       "2020                            0.011651                     0.009029\n",
       "2021                            0.052466                     0.046401\n",
       "2022                            0.076024                     0.079258\n",
       "2023                            0.093464                     0.093303\n",
       "2024                            0.062028                     0.078505"
      ]
     },
     "execution_count": 26,
     "metadata": {},
     "output_type": "execute_result"
    }
   ],
   "source": [
    "flare_data[\"start_year\"] = flare_data[\"start time\"].map(lambda x: x.year)\n",
    "has_end_time_start_year_props = flare_data.loc[~flare_data[\"end time\"].isna(), \"start_year\"].value_counts(normalize=True)\n",
    "no_end_time_start_year_props = flare_data.loc[flare_data[\"end time\"].isna(), \"start_year\"].value_counts(normalize=True)\n",
    "flare_data.drop(columns=\"start_year\", inplace=True)\n",
    "pd.DataFrame({\"has_end_time_start_year_prop\": has_end_time_start_year_props, \"no_end_time_start_year_prop\": no_end_time_start_year_props})"
   ]
  },
  {
   "cell_type": "markdown",
   "metadata": {},
   "source": [
    "We next check whether the flares without `end times`s are spread differently across NOAA active regions than flares with `end time`s. Ke suggested using `noaa_ar_5min` instead of `noaa_ar_5s` since the latter is based on a rule that's too restrictive. The main difference seems to be that flares missing `end time`s are much more likely to also be missing NOAA active regions."
   ]
  },
  {
   "cell_type": "code",
   "execution_count": 27,
   "metadata": {},
   "outputs": [
    {
     "data": {
      "text/html": [
       "<div>\n",
       "<style scoped>\n",
       "    .dataframe tbody tr th:only-of-type {\n",
       "        vertical-align: middle;\n",
       "    }\n",
       "\n",
       "    .dataframe tbody tr th {\n",
       "        vertical-align: top;\n",
       "    }\n",
       "\n",
       "    .dataframe thead th {\n",
       "        text-align: right;\n",
       "    }\n",
       "</style>\n",
       "<table border=\"1\" class=\"dataframe\">\n",
       "  <thead>\n",
       "    <tr style=\"text-align: right;\">\n",
       "      <th></th>\n",
       "      <th>has_end_time_noaa_ar_prop</th>\n",
       "      <th>no_end_time_noaa_ar_prop</th>\n",
       "      <th>abs_diff</th>\n",
       "    </tr>\n",
       "    <tr>\n",
       "      <th>noaa_ar_5min</th>\n",
       "      <th></th>\n",
       "      <th></th>\n",
       "      <th></th>\n",
       "    </tr>\n",
       "  </thead>\n",
       "  <tbody>\n",
       "    <tr>\n",
       "      <th>&lt;NA&gt;</th>\n",
       "      <td>0.258079</td>\n",
       "      <td>0.65839</td>\n",
       "      <td>0.400311</td>\n",
       "    </tr>\n",
       "    <tr>\n",
       "      <th>0</th>\n",
       "      <td>0.118011</td>\n",
       "      <td>0.056684</td>\n",
       "      <td>0.061327</td>\n",
       "    </tr>\n",
       "    <tr>\n",
       "      <th>11476</th>\n",
       "      <td>0.003847</td>\n",
       "      <td>0.000752</td>\n",
       "      <td>0.003095</td>\n",
       "    </tr>\n",
       "    <tr>\n",
       "      <th>12422</th>\n",
       "      <td>0.002894</td>\n",
       "      <td>0.0</td>\n",
       "      <td>0.002894</td>\n",
       "    </tr>\n",
       "    <tr>\n",
       "      <th>11967</th>\n",
       "      <td>0.003078</td>\n",
       "      <td>0.000251</td>\n",
       "      <td>0.002827</td>\n",
       "    </tr>\n",
       "    <tr>\n",
       "      <th>...</th>\n",
       "      <td>...</td>\n",
       "      <td>...</td>\n",
       "      <td>...</td>\n",
       "    </tr>\n",
       "    <tr>\n",
       "      <th>11514</th>\n",
       "      <td>0.000256</td>\n",
       "      <td>0.000251</td>\n",
       "      <td>0.000006</td>\n",
       "    </tr>\n",
       "    <tr>\n",
       "      <th>12603</th>\n",
       "      <td>0.000256</td>\n",
       "      <td>0.000251</td>\n",
       "      <td>0.000006</td>\n",
       "    </tr>\n",
       "    <tr>\n",
       "      <th>12592</th>\n",
       "      <td>0.000256</td>\n",
       "      <td>0.000251</td>\n",
       "      <td>0.000006</td>\n",
       "    </tr>\n",
       "    <tr>\n",
       "      <th>13595</th>\n",
       "      <td>0.000256</td>\n",
       "      <td>0.000251</td>\n",
       "      <td>0.000006</td>\n",
       "    </tr>\n",
       "    <tr>\n",
       "      <th>13314</th>\n",
       "      <td>0.000256</td>\n",
       "      <td>0.000251</td>\n",
       "      <td>0.000006</td>\n",
       "    </tr>\n",
       "  </tbody>\n",
       "</table>\n",
       "<p>1708 rows × 3 columns</p>\n",
       "</div>"
      ],
      "text/plain": [
       "              has_end_time_noaa_ar_prop  no_end_time_noaa_ar_prop  abs_diff\n",
       "noaa_ar_5min                                                               \n",
       "<NA>                           0.258079                   0.65839  0.400311\n",
       "0                              0.118011                  0.056684  0.061327\n",
       "11476                          0.003847                  0.000752  0.003095\n",
       "12422                          0.002894                       0.0  0.002894\n",
       "11967                          0.003078                  0.000251  0.002827\n",
       "...                                 ...                       ...       ...\n",
       "11514                          0.000256                  0.000251  0.000006\n",
       "12603                          0.000256                  0.000251  0.000006\n",
       "12592                          0.000256                  0.000251  0.000006\n",
       "13595                          0.000256                  0.000251  0.000006\n",
       "13314                          0.000256                  0.000251  0.000006\n",
       "\n",
       "[1708 rows x 3 columns]"
      ]
     },
     "execution_count": 27,
     "metadata": {},
     "output_type": "execute_result"
    }
   ],
   "source": [
    "has_end_time_noaa_ar_props = flare_data.loc[~flare_data[\"end time\"].isna(), \"noaa_ar_5min\"].value_counts(normalize=True, dropna=False)\n",
    "no_end_time_noaa_ar_props = flare_data.loc[flare_data[\"end time\"].isna(), \"noaa_ar_5min\"].value_counts(normalize=True, dropna=False)\n",
    "noaa_ar_props = pd.DataFrame({\n",
    "    \"has_end_time_noaa_ar_prop\": has_end_time_noaa_ar_props, \"no_end_time_noaa_ar_prop\": no_end_time_noaa_ar_props,\n",
    "})\n",
    "noaa_ar_props.replace(pd.NA, 0, inplace=True)\n",
    "noaa_ar_props[\"abs_diff\"] = (noaa_ar_props[\"has_end_time_noaa_ar_prop\"] - noaa_ar_props[\"no_end_time_noaa_ar_prop\"]).abs()\n",
    "noaa_ar_props.sort_values(\"abs_diff\", ascending=False)"
   ]
  },
  {
   "cell_type": "markdown",
   "metadata": {},
   "source": [
    "We turn the `end time`s into `datetime`s."
   ]
  },
  {
   "cell_type": "code",
   "execution_count": 28,
   "metadata": {},
   "outputs": [],
   "source": [
    "flare_data[\"end time\"] = pd.to_datetime(flare_data[\"end time\"], errors=\"coerce\", format=\"%Y/%m/%d %H:%M\", utc=True)"
   ]
  },
  {
   "cell_type": "markdown",
   "metadata": {},
   "source": [
    "Some `end time`s weren't successfully converted."
   ]
  },
  {
   "cell_type": "code",
   "execution_count": 29,
   "metadata": {},
   "outputs": [
    {
     "data": {
      "text/plain": [
       "23      NaT\n",
       "31      NaT\n",
       "32      NaT\n",
       "40      NaT\n",
       "50      NaT\n",
       "         ..\n",
       "31254   NaT\n",
       "31258   NaT\n",
       "31269   NaT\n",
       "31274   NaT\n",
       "31277   NaT\n",
       "Name: end time, Length: 3987, dtype: datetime64[ns, UTC]"
      ]
     },
     "execution_count": 29,
     "metadata": {},
     "output_type": "execute_result"
    }
   ],
   "source": [
    "flare_data.loc[flare_data[\"end time\"].isna(), \"end time\"]"
   ]
  },
  {
   "cell_type": "markdown",
   "metadata": {},
   "source": [
    "The conversion only failed for missing `end time`s."
   ]
  },
  {
   "cell_type": "code",
   "execution_count": 30,
   "metadata": {},
   "outputs": [
    {
     "data": {
      "text/plain": [
       "Series([], Name: end time, dtype: datetime64[ns, UTC])"
      ]
     },
     "execution_count": 30,
     "metadata": {},
     "output_type": "execute_result"
    }
   ],
   "source": [
    "flare_data.loc[flare_data[\"end time\"].isna() & end_time_matches_pattern, \"end time\"]"
   ]
  },
  {
   "cell_type": "markdown",
   "metadata": {},
   "source": [
    "All the `peak time`s match the format above."
   ]
  },
  {
   "cell_type": "code",
   "execution_count": 31,
   "metadata": {},
   "outputs": [
    {
     "data": {
      "text/plain": [
       "Series([], Name: peak time, dtype: object)"
      ]
     },
     "execution_count": 31,
     "metadata": {},
     "output_type": "execute_result"
    }
   ],
   "source": [
    "peak_time_matches_pattern = ~flare_data[\"peak time\"].isna() & flare_data[\"peak time\"].str.match(time_pattern)\n",
    "flare_data.loc[~peak_time_matches_pattern, \"peak time\"]"
   ]
  },
  {
   "cell_type": "markdown",
   "metadata": {},
   "source": [
    "We turn the `peak time`s into `datetime`s."
   ]
  },
  {
   "cell_type": "code",
   "execution_count": 32,
   "metadata": {},
   "outputs": [],
   "source": [
    "flare_data[\"peak time\"] = pd.to_datetime(flare_data[\"peak time\"], errors=\"coerce\", format=\"%Y/%m/%d %H:%M\", utc=True)"
   ]
  },
  {
   "cell_type": "markdown",
   "metadata": {},
   "source": [
    "All `peak time`s were successfully converted."
   ]
  },
  {
   "cell_type": "code",
   "execution_count": 33,
   "metadata": {},
   "outputs": [
    {
     "data": {
      "text/plain": [
       "Series([], Name: peak time, dtype: datetime64[ns, UTC])"
      ]
     },
     "execution_count": 33,
     "metadata": {},
     "output_type": "execute_result"
    }
   ],
   "source": [
    "flare_data.loc[flare_data[\"peak time\"].isna(), \"peak time\"]"
   ]
  },
  {
   "cell_type": "markdown",
   "metadata": {},
   "source": [
    "For each flare, the `start time` precedes the `peak time`."
   ]
  },
  {
   "cell_type": "code",
   "execution_count": 34,
   "metadata": {},
   "outputs": [
    {
     "data": {
      "text/html": [
       "<div>\n",
       "<style scoped>\n",
       "    .dataframe tbody tr th:only-of-type {\n",
       "        vertical-align: middle;\n",
       "    }\n",
       "\n",
       "    .dataframe tbody tr th {\n",
       "        vertical-align: top;\n",
       "    }\n",
       "\n",
       "    .dataframe thead th {\n",
       "        text-align: right;\n",
       "    }\n",
       "</style>\n",
       "<table border=\"1\" class=\"dataframe\">\n",
       "  <thead>\n",
       "    <tr style=\"text-align: right;\">\n",
       "      <th></th>\n",
       "      <th>start time</th>\n",
       "      <th>end time</th>\n",
       "      <th>peak time</th>\n",
       "      <th>flare_class</th>\n",
       "      <th>peak_intensity</th>\n",
       "      <th>noaa_ar_5min</th>\n",
       "      <th>noaa_ar_5s</th>\n",
       "      <th>hg1</th>\n",
       "      <th>hg2</th>\n",
       "      <th>car1</th>\n",
       "      <th>car2</th>\n",
       "      <th>rtheta1</th>\n",
       "      <th>rtheta2</th>\n",
       "      <th>xy1</th>\n",
       "      <th>xy2</th>\n",
       "      <th>solar_p_angle</th>\n",
       "      <th>solar_radius</th>\n",
       "    </tr>\n",
       "  </thead>\n",
       "  <tbody>\n",
       "  </tbody>\n",
       "</table>\n",
       "</div>"
      ],
      "text/plain": [
       "Empty DataFrame\n",
       "Columns: [start time, end time, peak time, flare_class, peak_intensity, noaa_ar_5min, noaa_ar_5s, hg1, hg2, car1, car2, rtheta1, rtheta2, xy1, xy2, solar_p_angle, solar_radius]\n",
       "Index: []"
      ]
     },
     "execution_count": 34,
     "metadata": {},
     "output_type": "execute_result"
    }
   ],
   "source": [
    "flare_data[flare_data[\"start time\"] > flare_data[\"peak time\"]]"
   ]
  },
  {
   "cell_type": "markdown",
   "metadata": {},
   "source": [
    "For each flare with an `end time`, the `start time`, `peak time`, and `end time` are properly ordered."
   ]
  },
  {
   "cell_type": "code",
   "execution_count": 35,
   "metadata": {},
   "outputs": [
    {
     "data": {
      "text/html": [
       "<div>\n",
       "<style scoped>\n",
       "    .dataframe tbody tr th:only-of-type {\n",
       "        vertical-align: middle;\n",
       "    }\n",
       "\n",
       "    .dataframe tbody tr th {\n",
       "        vertical-align: top;\n",
       "    }\n",
       "\n",
       "    .dataframe thead th {\n",
       "        text-align: right;\n",
       "    }\n",
       "</style>\n",
       "<table border=\"1\" class=\"dataframe\">\n",
       "  <thead>\n",
       "    <tr style=\"text-align: right;\">\n",
       "      <th></th>\n",
       "      <th>start time</th>\n",
       "      <th>end time</th>\n",
       "      <th>peak time</th>\n",
       "      <th>flare_class</th>\n",
       "      <th>peak_intensity</th>\n",
       "      <th>noaa_ar_5min</th>\n",
       "      <th>noaa_ar_5s</th>\n",
       "      <th>hg1</th>\n",
       "      <th>hg2</th>\n",
       "      <th>car1</th>\n",
       "      <th>car2</th>\n",
       "      <th>rtheta1</th>\n",
       "      <th>rtheta2</th>\n",
       "      <th>xy1</th>\n",
       "      <th>xy2</th>\n",
       "      <th>solar_p_angle</th>\n",
       "      <th>solar_radius</th>\n",
       "    </tr>\n",
       "  </thead>\n",
       "  <tbody>\n",
       "  </tbody>\n",
       "</table>\n",
       "</div>"
      ],
      "text/plain": [
       "Empty DataFrame\n",
       "Columns: [start time, end time, peak time, flare_class, peak_intensity, noaa_ar_5min, noaa_ar_5s, hg1, hg2, car1, car2, rtheta1, rtheta2, xy1, xy2, solar_p_angle, solar_radius]\n",
       "Index: []"
      ]
     },
     "execution_count": 35,
     "metadata": {},
     "output_type": "execute_result"
    }
   ],
   "source": [
    "flare_data[\n",
    "    ~flare_data[\"end time\"].isna() &\n",
    "    ((flare_data[\"start time\"] > flare_data[\"end time\"]) | (flare_data[\"peak time\"] > flare_data[\"end time\"]))\n",
    "]"
   ]
  },
  {
   "cell_type": "markdown",
   "metadata": {},
   "source": [
    "We save the final data frame."
   ]
  },
  {
   "cell_type": "code",
   "execution_count": 36,
   "metadata": {},
   "outputs": [],
   "source": [
    "flare_data.to_parquet(\"flare_data.parquet\")"
   ]
  }
 ],
 "metadata": {
  "kernelspec": {
   "display_name": "Python 3",
   "language": "python",
   "name": "python3"
  },
  "language_info": {
   "codemirror_mode": {
    "name": "ipython",
    "version": 3
   },
   "file_extension": ".py",
   "mimetype": "text/x-python",
   "name": "python",
   "nbconvert_exporter": "python",
   "pygments_lexer": "ipython3",
   "version": "3.9.20"
  }
 },
 "nbformat": 4,
 "nbformat_minor": 2
}
